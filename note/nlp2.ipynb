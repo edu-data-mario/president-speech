{
 "cells": [
  {
   "cell_type": "code",
   "execution_count": 1,
   "id": "initial_id",
   "metadata": {
    "collapsed": true,
    "ExecuteTime": {
     "end_time": "2023-09-12T08:16:25.694555Z",
     "start_time": "2023-09-12T08:16:25.275015Z"
    }
   },
   "outputs": [],
   "source": [
    "from president_speech.db.parquet_interpreter import read_parquet"
   ]
  },
  {
   "cell_type": "code",
   "execution_count": 2,
   "outputs": [],
   "source": [
    "df = read_parquet()"
   ],
   "metadata": {
    "collapsed": false,
    "ExecuteTime": {
     "end_time": "2023-09-12T08:16:32.075710Z",
     "start_time": "2023-09-12T08:16:31.781074Z"
    }
   },
   "id": "7e2b8d39438ba6a"
  },
  {
   "cell_type": "code",
   "execution_count": 3,
   "outputs": [
    {
     "data": {
      "text/plain": "Index(['division_number', 'president', 'title', 'date', 'location', 'kind',\n       'speech_text'],\n      dtype='object')"
     },
     "execution_count": 3,
     "metadata": {},
     "output_type": "execute_result"
    }
   ],
   "source": [
    "df.columns"
   ],
   "metadata": {
    "collapsed": false,
    "ExecuteTime": {
     "end_time": "2023-09-12T08:17:31.368623Z",
     "start_time": "2023-09-12T08:17:31.365469Z"
    }
   },
   "id": "1e023ba6f1e8c09e"
  },
  {
   "cell_type": "code",
   "execution_count": 5,
   "outputs": [],
   "source": [
    "from konlpy.tag import Okt\n",
    "okt = Okt()"
   ],
   "metadata": {
    "collapsed": false,
    "ExecuteTime": {
     "end_time": "2023-09-12T08:20:38.738874Z",
     "start_time": "2023-09-12T08:20:38.320430Z"
    }
   },
   "id": "efd5d19a1ca8ab5f"
  },
  {
   "cell_type": "code",
   "execution_count": 31,
   "outputs": [],
   "source": [
    "df['speech_text_nouns_count'] = df['speech_text'].apply(lambda x: Counter(okt.nouns(x)))"
   ],
   "metadata": {
    "collapsed": false,
    "ExecuteTime": {
     "end_time": "2023-09-12T08:38:53.101527Z",
     "start_time": "2023-09-12T08:32:14.268831Z"
    }
   },
   "id": "7463616f6ba26cd5"
  },
  {
   "cell_type": "code",
   "execution_count": 12,
   "outputs": [],
   "source": [
    "s = df[\"speech_text\"].iloc[1]"
   ],
   "metadata": {
    "collapsed": false,
    "ExecuteTime": {
     "end_time": "2023-09-12T08:22:01.898702Z",
     "start_time": "2023-09-12T08:22:01.896874Z"
    }
   },
   "id": "35e0da3667d301e0"
  },
  {
   "cell_type": "code",
   "execution_count": 14,
   "outputs": [
    {
     "data": {
      "text/plain": "str"
     },
     "execution_count": 14,
     "metadata": {},
     "output_type": "execute_result"
    }
   ],
   "source": [
    "type(s)"
   ],
   "metadata": {
    "collapsed": false,
    "ExecuteTime": {
     "end_time": "2023-09-12T08:22:08.389025Z",
     "start_time": "2023-09-12T08:22:08.368036Z"
    }
   },
   "id": "cd7cb901d1d1f563"
  },
  {
   "cell_type": "code",
   "execution_count": 16,
   "outputs": [],
   "source": [
    "l = okt.nouns(s)"
   ],
   "metadata": {
    "collapsed": false,
    "ExecuteTime": {
     "end_time": "2023-09-12T08:22:37.766728Z",
     "start_time": "2023-09-12T08:22:36.138990Z"
    }
   },
   "id": "5c06684de78c8bda"
  },
  {
   "cell_type": "code",
   "execution_count": 17,
   "outputs": [
    {
     "data": {
      "text/plain": "list"
     },
     "execution_count": 17,
     "metadata": {},
     "output_type": "execute_result"
    }
   ],
   "source": [
    "type(l)"
   ],
   "metadata": {
    "collapsed": false,
    "ExecuteTime": {
     "end_time": "2023-09-12T08:22:42.075715Z",
     "start_time": "2023-09-12T08:22:42.068816Z"
    }
   },
   "id": "5d6c06a16a78ef12"
  },
  {
   "cell_type": "code",
   "execution_count": 18,
   "outputs": [
    {
     "data": {
      "text/plain": "636"
     },
     "execution_count": 18,
     "metadata": {},
     "output_type": "execute_result"
    }
   ],
   "source": [
    "len(l)"
   ],
   "metadata": {
    "collapsed": false,
    "ExecuteTime": {
     "end_time": "2023-09-12T08:22:51.909956Z",
     "start_time": "2023-09-12T08:22:51.901230Z"
    }
   },
   "id": "38f7a7cccf6eca57"
  },
  {
   "cell_type": "code",
   "execution_count": 20,
   "outputs": [
    {
     "data": {
      "text/plain": "357"
     },
     "execution_count": 20,
     "metadata": {},
     "output_type": "execute_result"
    }
   ],
   "source": [
    "len(set(l))"
   ],
   "metadata": {
    "collapsed": false,
    "ExecuteTime": {
     "end_time": "2023-09-12T08:23:05.295577Z",
     "start_time": "2023-09-12T08:23:05.292918Z"
    }
   },
   "id": "4f3e6124145acafd"
  },
  {
   "cell_type": "code",
   "execution_count": 21,
   "outputs": [],
   "source": [
    "from collections import Counter"
   ],
   "metadata": {
    "collapsed": false,
    "ExecuteTime": {
     "end_time": "2023-09-12T08:25:07.425119Z",
     "start_time": "2023-09-12T08:25:07.419434Z"
    }
   },
   "id": "cab0ea33c2456842"
  },
  {
   "cell_type": "code",
   "execution_count": 22,
   "outputs": [],
   "source": [
    "c = Counter(l)"
   ],
   "metadata": {
    "collapsed": false,
    "ExecuteTime": {
     "end_time": "2023-09-12T08:25:24.335244Z",
     "start_time": "2023-09-12T08:25:24.321136Z"
    }
   },
   "id": "d69ca8cf4916c97a"
  },
  {
   "cell_type": "code",
   "execution_count": 24,
   "outputs": [
    {
     "data": {
      "text/plain": "collections.Counter"
     },
     "execution_count": 24,
     "metadata": {},
     "output_type": "execute_result"
    }
   ],
   "source": [
    "type(c)"
   ],
   "metadata": {
    "collapsed": false,
    "ExecuteTime": {
     "end_time": "2023-09-12T08:25:35.603642Z",
     "start_time": "2023-09-12T08:25:35.587346Z"
    }
   },
   "id": "6a487eebc760f512"
  },
  {
   "cell_type": "code",
   "execution_count": 26,
   "outputs": [],
   "source": [
    "d = dict(c)"
   ],
   "metadata": {
    "collapsed": false,
    "ExecuteTime": {
     "end_time": "2023-09-12T08:25:49.499928Z",
     "start_time": "2023-09-12T08:25:49.483896Z"
    }
   },
   "id": "6391725ba81a997f"
  },
  {
   "cell_type": "code",
   "execution_count": 28,
   "outputs": [
    {
     "data": {
      "text/plain": "dict"
     },
     "execution_count": 28,
     "metadata": {},
     "output_type": "execute_result"
    }
   ],
   "source": [
    "type(d)"
   ],
   "metadata": {
    "collapsed": false,
    "ExecuteTime": {
     "end_time": "2023-09-12T08:26:05.095450Z",
     "start_time": "2023-09-12T08:26:05.090874Z"
    }
   },
   "id": "78b92c886dc5bac7"
  },
  {
   "cell_type": "code",
   "execution_count": 29,
   "outputs": [],
   "source": [
    "import pandas as pd\n",
    "dict_series = pd.Series(d)"
   ],
   "metadata": {
    "collapsed": false,
    "ExecuteTime": {
     "end_time": "2023-09-12T08:29:16.000918Z",
     "start_time": "2023-09-12T08:29:15.901259Z"
    }
   },
   "id": "520c8e6285523ea3"
  },
  {
   "cell_type": "code",
   "execution_count": 30,
   "outputs": [
    {
     "data": {
      "text/plain": "존경      2\n국회의장    1\n의원      5\n제위      1\n내외      1\n       ..\n끝       1\n건강      1\n행복      1\n진심      1\n기원      1\nLength: 357, dtype: int64"
     },
     "execution_count": 30,
     "metadata": {},
     "output_type": "execute_result"
    }
   ],
   "source": [
    "dict_series"
   ],
   "metadata": {
    "collapsed": false,
    "ExecuteTime": {
     "end_time": "2023-09-12T08:29:21.135749Z",
     "start_time": "2023-09-12T08:29:21.114259Z"
    }
   },
   "id": "75a567e45ac9b989"
  },
  {
   "cell_type": "code",
   "execution_count": 32,
   "outputs": [
    {
     "data": {
      "text/plain": "Index(['division_number', 'president', 'title', 'date', 'location', 'kind',\n       'speech_text', 'speech_text_nouns_count'],\n      dtype='object')"
     },
     "execution_count": 32,
     "metadata": {},
     "output_type": "execute_result"
    }
   ],
   "source": [
    "df.columns"
   ],
   "metadata": {
    "collapsed": false,
    "ExecuteTime": {
     "end_time": "2023-09-12T08:39:36.035087Z",
     "start_time": "2023-09-12T08:39:36.009689Z"
    }
   },
   "id": "d89ddb1523d424b3"
  },
  {
   "cell_type": "code",
   "execution_count": 36,
   "outputs": [],
   "source": [
    "t = Counter([])\n",
    "for c in df['speech_text_nouns_count']:\n",
    "    t = t + c"
   ],
   "metadata": {
    "collapsed": false,
    "ExecuteTime": {
     "end_time": "2023-09-12T08:43:11.757735Z",
     "start_time": "2023-09-12T08:42:24.976125Z"
    }
   },
   "id": "964ac3ce4e5839da"
  },
  {
   "cell_type": "code",
   "execution_count": 37,
   "outputs": [
    {
     "data": {
      "text/plain": "[('것', 136068),\n ('우리', 97379),\n ('여러분', 50909),\n ('이', 45148),\n ('수', 44156),\n ('국민', 43774),\n ('그', 28164),\n ('세계', 27181),\n ('정부', 24039),\n ('위', 22755)]"
     },
     "execution_count": 37,
     "metadata": {},
     "output_type": "execute_result"
    }
   ],
   "source": [
    "t.most_common(10)"
   ],
   "metadata": {
    "collapsed": false,
    "ExecuteTime": {
     "end_time": "2023-09-12T08:43:19.177068Z",
     "start_time": "2023-09-12T08:43:19.152400Z"
    }
   },
   "id": "3ef70e0d664f151d"
  },
  {
   "cell_type": "code",
   "execution_count": 39,
   "outputs": [
    {
     "data": {
      "text/plain": "[('것', 136068),\n ('우리', 97379),\n ('여러분', 50909),\n ('이', 45148),\n ('수', 44156),\n ('국민', 43774),\n ('그', 28164),\n ('세계', 27181),\n ('정부', 24039),\n ('위', 22755),\n ('나라', 22218),\n ('경제', 21699),\n ('한국', 20654),\n ('생각', 20566),\n ('발전', 19762),\n ('위해', 18296),\n ('읍니', 18228),\n ('국가', 18008),\n ('대통령', 17130),\n ('협력', 16984),\n ('노력', 16127),\n ('지금', 15173),\n ('평화', 15164),\n ('때', 15053),\n ('사회', 15049),\n ('등', 14742),\n ('오늘', 13935),\n ('사람', 13867),\n ('나', 13636),\n ('문제', 13367),\n ('일', 13134),\n ('모든', 12586),\n ('가지', 12467),\n ('저', 11699),\n ('더', 11509),\n ('또', 11097),\n ('더욱', 10986),\n ('대한', 10769),\n ('앞', 10724),\n ('바', 10307),\n ('모두', 10248),\n ('민족', 10022),\n ('데', 10021),\n ('대해', 9992),\n ('제', 9990),\n ('북한', 9776),\n ('시대', 9729),\n ('이제', 9719),\n ('의', 9710),\n ('지역', 9518),\n ('관계', 9380),\n ('역사', 9101),\n ('힘', 8678),\n ('기업', 8668),\n ('또한', 8525),\n ('문화', 8450),\n ('추진', 8424),\n ('말', 8374),\n ('산업', 8302),\n ('대한민국', 8007),\n ('전', 7984),\n ('양국', 7980),\n ('온', 7923),\n ('때문', 7766),\n ('통해', 7688),\n ('지난', 7663),\n ('통일', 7582),\n ('다시', 7407),\n ('이번', 7283),\n ('정책', 7057),\n ('가장', 7049),\n ('속', 7041),\n ('자리', 7024),\n ('자유', 6938),\n ('를', 6919),\n ('국제', 6885),\n ('미국', 6873),\n ('개혁', 6866),\n ('한반도', 6830),\n ('기술', 6628),\n ('정치', 6623),\n ('건설', 6606),\n ('해', 6589),\n ('지원', 6568),\n ('민주주의', 6566),\n ('우리나라', 6552),\n ('개발', 6526),\n ('하나', 6492),\n ('적극', 6468),\n ('중', 6317),\n ('안정', 6267),\n ('번영', 6194),\n ('분야', 6171),\n ('두', 5956),\n ('정신', 5844),\n ('동안', 5826),\n ('성장', 5805),\n ('뜻', 5783),\n ('여러', 5760),\n ('사업', 5710)]"
     },
     "execution_count": 39,
     "metadata": {},
     "output_type": "execute_result"
    }
   ],
   "source": [
    "t.most_common(100)"
   ],
   "metadata": {
    "collapsed": false,
    "ExecuteTime": {
     "end_time": "2023-09-12T08:44:30.965435Z",
     "start_time": "2023-09-12T08:44:30.951222Z"
    }
   },
   "id": "5635096aef032953"
  },
  {
   "cell_type": "code",
   "execution_count": null,
   "outputs": [],
   "source": [],
   "metadata": {
    "collapsed": false
   },
   "id": "a46825ffd89e8685"
  }
 ],
 "metadata": {
  "kernelspec": {
   "display_name": "Python 3",
   "language": "python",
   "name": "python3"
  },
  "language_info": {
   "codemirror_mode": {
    "name": "ipython",
    "version": 2
   },
   "file_extension": ".py",
   "mimetype": "text/x-python",
   "name": "python",
   "nbconvert_exporter": "python",
   "pygments_lexer": "ipython2",
   "version": "2.7.6"
  }
 },
 "nbformat": 4,
 "nbformat_minor": 5
}
