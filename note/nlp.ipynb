{
 "cells": [
  {
   "cell_type": "code",
   "execution_count": 3,
   "id": "305d93b1-fbf5-44cd-9449-e2a4f14299b3",
   "metadata": {
    "ExecuteTime": {
     "end_time": "2023-09-11T23:46:49.803780Z",
     "start_time": "2023-09-11T23:46:49.454256Z"
    }
   },
   "outputs": [],
   "source": [
    "import numpy as np\n",
    "import pandas as pd\n",
    "from konlpy.tag import Okt\n",
    "from president_speech.db.parquet_interpreter import get_parquet_tmp_dir"
   ]
  },
  {
   "cell_type": "code",
   "execution_count": 3,
   "id": "d6457521-661f-4d5f-b677-94d17e01f51c",
   "metadata": {},
   "outputs": [],
   "source": [
    "import pandas as pd\n",
    "from konlpy.tag import Okt\n",
    "\n",
    "df = pd.DataFrame({'speaker': ['김영삼', '김대중', '노무현'], 'speech_full_text': ['안녕하세요. 저는 김영삼입니다.', '안녕하세요. 저는 김대중입니다.', '안녕하세요. 저는 노무현입니다.']})\n",
    "\n",
    "# KoNLPy의 Okt를 사용하여 형태소 분석기 생성\n",
    "okt = Okt()\n",
    "\n",
    "# speech_full_text 열의 형태소를 추출하여 speech_full_text_h 열에 저장\n",
    "df['speech_full_text_h'] = df['speech_full_text'].apply(lambda x: okt.morphs(x))"
   ]
  },
  {
   "cell_type": "code",
   "execution_count": 4,
   "id": "80416f9d-31f0-4a3e-b31c-d12837d4d21b",
   "metadata": {},
   "outputs": [
    {
     "name": "stdout",
     "output_type": "stream",
     "text": [
      "<class 'pandas.core.frame.DataFrame'>\n",
      "RangeIndex: 3 entries, 0 to 2\n",
      "Data columns (total 3 columns):\n",
      " #   Column              Non-Null Count  Dtype \n",
      "---  ------              --------------  ----- \n",
      " 0   speaker             3 non-null      object\n",
      " 1   speech_full_text    3 non-null      object\n",
      " 2   speech_full_text_h  3 non-null      object\n",
      "dtypes: object(3)\n",
      "memory usage: 200.0+ bytes\n"
     ]
    }
   ],
   "source": [
    "df.info()"
   ]
  },
  {
   "cell_type": "code",
   "execution_count": 5,
   "id": "9ca7cb7b-3fdf-471c-815b-aac7854bfccd",
   "metadata": {},
   "outputs": [
    {
     "data": {
      "text/html": [
       "<div>\n",
       "<style scoped>\n",
       "    .dataframe tbody tr th:only-of-type {\n",
       "        vertical-align: middle;\n",
       "    }\n",
       "\n",
       "    .dataframe tbody tr th {\n",
       "        vertical-align: top;\n",
       "    }\n",
       "\n",
       "    .dataframe thead th {\n",
       "        text-align: right;\n",
       "    }\n",
       "</style>\n",
       "<table border=\"1\" class=\"dataframe\">\n",
       "  <thead>\n",
       "    <tr style=\"text-align: right;\">\n",
       "      <th></th>\n",
       "      <th>speaker</th>\n",
       "      <th>speech_full_text</th>\n",
       "      <th>speech_full_text_h</th>\n",
       "    </tr>\n",
       "  </thead>\n",
       "  <tbody>\n",
       "    <tr>\n",
       "      <th>0</th>\n",
       "      <td>김영삼</td>\n",
       "      <td>안녕하세요. 저는 김영삼입니다.</td>\n",
       "      <td>[안녕하세요, ., 저, 는, 김영삼, 입니다, .]</td>\n",
       "    </tr>\n",
       "    <tr>\n",
       "      <th>1</th>\n",
       "      <td>김대중</td>\n",
       "      <td>안녕하세요. 저는 김대중입니다.</td>\n",
       "      <td>[안녕하세요, ., 저, 는, 김대중, 입니다, .]</td>\n",
       "    </tr>\n",
       "    <tr>\n",
       "      <th>2</th>\n",
       "      <td>노무현</td>\n",
       "      <td>안녕하세요. 저는 노무현입니다.</td>\n",
       "      <td>[안녕하세요, ., 저, 는, 노무현, 입니다, .]</td>\n",
       "    </tr>\n",
       "  </tbody>\n",
       "</table>\n",
       "</div>"
      ],
      "text/plain": [
       "  speaker   speech_full_text             speech_full_text_h\n",
       "0     김영삼  안녕하세요. 저는 김영삼입니다.  [안녕하세요, ., 저, 는, 김영삼, 입니다, .]\n",
       "1     김대중  안녕하세요. 저는 김대중입니다.  [안녕하세요, ., 저, 는, 김대중, 입니다, .]\n",
       "2     노무현  안녕하세요. 저는 노무현입니다.  [안녕하세요, ., 저, 는, 노무현, 입니다, .]"
      ]
     },
     "execution_count": 5,
     "metadata": {},
     "output_type": "execute_result"
    }
   ],
   "source": [
    "df"
   ]
  },
  {
   "cell_type": "code",
   "execution_count": null,
   "id": "3754735f-5710-4c44-a6c5-846a184939c3",
   "metadata": {},
   "outputs": [],
   "source": []
  },
  {
   "cell_type": "code",
   "execution_count": 2,
   "id": "3167d336-597e-4526-a939-f3722aad1e34",
   "metadata": {
    "ExecuteTime": {
     "end_time": "2023-09-09T03:49:30.407054Z",
     "start_time": "2023-09-09T03:49:30.218073Z"
    }
   },
   "outputs": [],
   "source": [
    "from president_speech.db.parquet_interpreter import read_parquet\n",
    "\n",
    "df_origin = read_parquet()"
   ]
  },
  {
   "cell_type": "code",
   "execution_count": 3,
   "id": "1fb77075-75f2-4f78-b3d9-39dcf4529c68",
   "metadata": {
    "ExecuteTime": {
     "end_time": "2023-09-09T03:49:31.072191Z",
     "start_time": "2023-09-09T03:49:31.058991Z"
    }
   },
   "outputs": [
    {
     "data": {
      "text/plain": "        division_number president                title        date location  \\\n5368            1305368       박정희  제5대 대통령 취임식 대통령 취임사  1963.12.17       국내   \n5369            1305369       박정희            국회 개회식 치사  1963.12.17       국내   \n5370            1305370       박정희               신년 메시지  1964.01.01       국내   \n5371            1305371       박정희      신년 시무식에 즈음한 담화문        1964       국내   \n5372            1305372       박정희       고급공무원에게 보내는 서신  1964.01.04       국내   \n...                 ...       ...                  ...         ...      ...   \n102587          1401987       문재인             수석·보좌관회의  2021.04.05       국내   \n102588          1401988       문재인            제16회 국무회의  2021.04.13       국내   \n102589          1401989       문재인             수석·보좌관회의  2021.04.19       국내   \n102590          1401990       문재인             수석·보좌관회의  2021.04.26       국내   \n102591          1401991       문재인            제18회 국무회의  2021.04.27       국내   \n\n          kind                                        speech_text  \n5368       취임사  \\n\\n\\n단군성조가 천혜의 이 강토 위에 국기를 닦으신지 반만년, 연면히 이어온 ...  \n5369       기념사   존경하는 국회의장, 의원제위 그리고 내외귀빈 여러분! 오늘 이 뜻깊은 제3공화국의...  \n5370       신년사   친애하는 국내외의 동포 여러분! 혁명의 고된 시련을 겪고 민정이양으로 매듭을 지은...  \n5371    성명/담화문  친애하는 전국의 공무원 여러분! 민족 역사 위에 격동과 시련의 해로 길이 기록될 계...  \n5372       기념사  청 감갑진년의 새아침을 맞이하여 귀하와 귀하의 가정에 만복이 깃들기를 빌며, 새해에...  \n...        ...                                                ...  \n102587      회의  우리가 코로나19 이전으로 얼마나 빨리 돌아갈 수 있는지 여부는 오로지 방역과 백신...  \n102588      회의  정부는 국민께 무한책임을 진다는 자세로 흔들림 없이 국정에 임해야 합니다.방역도, ...  \n102589      회의  우리 정부 임기 마지막 날까지 흔들림 없이 국민과 역사가 부여한 책무를 다하자는 다...  \n102590      회의  코로나19와 같은 감염병의 세계적 대유행은 어느 한 나라가 자국의 문제를 해결한다고...  \n102591      회의  오늘 한국은행이 발표한 1분기 GDP 속보치에 따르면 우리 경제는 올해 1분기에 이...  \n\n[8771 rows x 7 columns]",
      "text/html": "<div>\n<style scoped>\n    .dataframe tbody tr th:only-of-type {\n        vertical-align: middle;\n    }\n\n    .dataframe tbody tr th {\n        vertical-align: top;\n    }\n\n    .dataframe thead th {\n        text-align: right;\n    }\n</style>\n<table border=\"1\" class=\"dataframe\">\n  <thead>\n    <tr style=\"text-align: right;\">\n      <th></th>\n      <th>division_number</th>\n      <th>president</th>\n      <th>title</th>\n      <th>date</th>\n      <th>location</th>\n      <th>kind</th>\n      <th>speech_text</th>\n    </tr>\n  </thead>\n  <tbody>\n    <tr>\n      <th>5368</th>\n      <td>1305368</td>\n      <td>박정희</td>\n      <td>제5대 대통령 취임식 대통령 취임사</td>\n      <td>1963.12.17</td>\n      <td>국내</td>\n      <td>취임사</td>\n      <td>\\n\\n\\n단군성조가 천혜의 이 강토 위에 국기를 닦으신지 반만년, 연면히 이어온 ...</td>\n    </tr>\n    <tr>\n      <th>5369</th>\n      <td>1305369</td>\n      <td>박정희</td>\n      <td>국회 개회식 치사</td>\n      <td>1963.12.17</td>\n      <td>국내</td>\n      <td>기념사</td>\n      <td>존경하는 국회의장, 의원제위 그리고 내외귀빈 여러분! 오늘 이 뜻깊은 제3공화국의...</td>\n    </tr>\n    <tr>\n      <th>5370</th>\n      <td>1305370</td>\n      <td>박정희</td>\n      <td>신년 메시지</td>\n      <td>1964.01.01</td>\n      <td>국내</td>\n      <td>신년사</td>\n      <td>친애하는 국내외의 동포 여러분! 혁명의 고된 시련을 겪고 민정이양으로 매듭을 지은...</td>\n    </tr>\n    <tr>\n      <th>5371</th>\n      <td>1305371</td>\n      <td>박정희</td>\n      <td>신년 시무식에 즈음한 담화문</td>\n      <td>1964</td>\n      <td>국내</td>\n      <td>성명/담화문</td>\n      <td>친애하는 전국의 공무원 여러분! 민족 역사 위에 격동과 시련의 해로 길이 기록될 계...</td>\n    </tr>\n    <tr>\n      <th>5372</th>\n      <td>1305372</td>\n      <td>박정희</td>\n      <td>고급공무원에게 보내는 서신</td>\n      <td>1964.01.04</td>\n      <td>국내</td>\n      <td>기념사</td>\n      <td>청 감갑진년의 새아침을 맞이하여 귀하와 귀하의 가정에 만복이 깃들기를 빌며, 새해에...</td>\n    </tr>\n    <tr>\n      <th>...</th>\n      <td>...</td>\n      <td>...</td>\n      <td>...</td>\n      <td>...</td>\n      <td>...</td>\n      <td>...</td>\n      <td>...</td>\n    </tr>\n    <tr>\n      <th>102587</th>\n      <td>1401987</td>\n      <td>문재인</td>\n      <td>수석·보좌관회의</td>\n      <td>2021.04.05</td>\n      <td>국내</td>\n      <td>회의</td>\n      <td>우리가 코로나19 이전으로 얼마나 빨리 돌아갈 수 있는지 여부는 오로지 방역과 백신...</td>\n    </tr>\n    <tr>\n      <th>102588</th>\n      <td>1401988</td>\n      <td>문재인</td>\n      <td>제16회 국무회의</td>\n      <td>2021.04.13</td>\n      <td>국내</td>\n      <td>회의</td>\n      <td>정부는 국민께 무한책임을 진다는 자세로 흔들림 없이 국정에 임해야 합니다.방역도, ...</td>\n    </tr>\n    <tr>\n      <th>102589</th>\n      <td>1401989</td>\n      <td>문재인</td>\n      <td>수석·보좌관회의</td>\n      <td>2021.04.19</td>\n      <td>국내</td>\n      <td>회의</td>\n      <td>우리 정부 임기 마지막 날까지 흔들림 없이 국민과 역사가 부여한 책무를 다하자는 다...</td>\n    </tr>\n    <tr>\n      <th>102590</th>\n      <td>1401990</td>\n      <td>문재인</td>\n      <td>수석·보좌관회의</td>\n      <td>2021.04.26</td>\n      <td>국내</td>\n      <td>회의</td>\n      <td>코로나19와 같은 감염병의 세계적 대유행은 어느 한 나라가 자국의 문제를 해결한다고...</td>\n    </tr>\n    <tr>\n      <th>102591</th>\n      <td>1401991</td>\n      <td>문재인</td>\n      <td>제18회 국무회의</td>\n      <td>2021.04.27</td>\n      <td>국내</td>\n      <td>회의</td>\n      <td>오늘 한국은행이 발표한 1분기 GDP 속보치에 따르면 우리 경제는 올해 1분기에 이...</td>\n    </tr>\n  </tbody>\n</table>\n<p>8771 rows × 7 columns</p>\n</div>"
     },
     "execution_count": 3,
     "metadata": {},
     "output_type": "execute_result"
    }
   ],
   "source": [
    "df_origin"
   ]
  },
  {
   "cell_type": "code",
   "execution_count": 4,
   "id": "9dab8a2a-1a28-4e8b-8e8f-c69e98381b27",
   "metadata": {
    "ExecuteTime": {
     "end_time": "2023-09-09T03:56:09.340959Z",
     "start_time": "2023-09-09T03:49:38.218628Z"
    }
   },
   "outputs": [],
   "source": [
    "okt = Okt()\n",
    "\n",
    "# speech_full_text 열의 형태소를 추출하여 speech_full_text_h 열에 저장\n",
    "df_origin['speech_text_nouns'] = df_origin['speech_text'].apply(lambda x: okt.nouns(x))"
   ]
  },
  {
   "cell_type": "code",
   "execution_count": 5,
   "id": "ac79d6ad-7830-4921-ac7a-69119bd4c0bf",
   "metadata": {
    "ExecuteTime": {
     "end_time": "2023-09-09T03:56:23.105944Z",
     "start_time": "2023-09-09T03:56:23.090327Z"
    }
   },
   "outputs": [
    {
     "data": {
      "text/plain": "        division_number president                title        date location  \\\n5368            1305368       박정희  제5대 대통령 취임식 대통령 취임사  1963.12.17       국내   \n5369            1305369       박정희            국회 개회식 치사  1963.12.17       국내   \n5370            1305370       박정희               신년 메시지  1964.01.01       국내   \n5371            1305371       박정희      신년 시무식에 즈음한 담화문        1964       국내   \n5372            1305372       박정희       고급공무원에게 보내는 서신  1964.01.04       국내   \n...                 ...       ...                  ...         ...      ...   \n102587          1401987       문재인             수석·보좌관회의  2021.04.05       국내   \n102588          1401988       문재인            제16회 국무회의  2021.04.13       국내   \n102589          1401989       문재인             수석·보좌관회의  2021.04.19       국내   \n102590          1401990       문재인             수석·보좌관회의  2021.04.26       국내   \n102591          1401991       문재인            제18회 국무회의  2021.04.27       국내   \n\n          kind                                        speech_text  \\\n5368       취임사  \\n\\n\\n단군성조가 천혜의 이 강토 위에 국기를 닦으신지 반만년, 연면히 이어온 ...   \n5369       기념사   존경하는 국회의장, 의원제위 그리고 내외귀빈 여러분! 오늘 이 뜻깊은 제3공화국의...   \n5370       신년사   친애하는 국내외의 동포 여러분! 혁명의 고된 시련을 겪고 민정이양으로 매듭을 지은...   \n5371    성명/담화문  친애하는 전국의 공무원 여러분! 민족 역사 위에 격동과 시련의 해로 길이 기록될 계...   \n5372       기념사  청 감갑진년의 새아침을 맞이하여 귀하와 귀하의 가정에 만복이 깃들기를 빌며, 새해에...   \n...        ...                                                ...   \n102587      회의  우리가 코로나19 이전으로 얼마나 빨리 돌아갈 수 있는지 여부는 오로지 방역과 백신...   \n102588      회의  정부는 국민께 무한책임을 진다는 자세로 흔들림 없이 국정에 임해야 합니다.방역도, ...   \n102589      회의  우리 정부 임기 마지막 날까지 흔들림 없이 국민과 역사가 부여한 책무를 다하자는 다...   \n102590      회의  코로나19와 같은 감염병의 세계적 대유행은 어느 한 나라가 자국의 문제를 해결한다고...   \n102591      회의  오늘 한국은행이 발표한 1분기 GDP 속보치에 따르면 우리 경제는 올해 1분기에 이...   \n\n                                        speech_text_nouns  \n5368    [단군, 조가, 천혜, 이, 강토, 위, 국기, 신지, 반만년, 연, 온, 역사, ...  \n5369    [존경, 국회의장, 의원, 제위, 내외, 귀빈, 여러분, 오늘, 이, 뜻, 제, 공...  \n5370    [국내외, 동포, 여러분, 혁명, 고, 시련, 민정, 이양, 매듭, 지은, 해, 계...  \n5371    [전국, 공무원, 여러분, 민족, 역사, 위, 격동, 시련, 길이, 기록, 계묘년,...  \n5372    [청, 감, 갑진년, 아침, 맞이, 귀하, 귀하, 가정, 만복, 깃, 새해, 국, ...  \n...                                                   ...  \n102587  [우리, 코로나, 이전, 얼마나, 수, 여부, 방역, 백신, 접종, 세계, 각국, ...  \n102588  [정부, 국민, 무한, 책임, 자세, 국정, 임해, 방역, 경제, 민생, 안보, 한...  \n102589  [우리, 정부, 임기, 마지막, 날, 국민, 역사, 부여, 책무, 하자, 다짐, 국...  \n102590  [코로나, 감염병, 세계, 대유행, 나라, 자국, 문제, 해결, 것, 때문, 다른,...  \n102591  [오늘, 한국은행, 발표, 속보, 치, 우리, 경제, 올해, 코로나, 이전, 경제,...  \n\n[8771 rows x 8 columns]",
      "text/html": "<div>\n<style scoped>\n    .dataframe tbody tr th:only-of-type {\n        vertical-align: middle;\n    }\n\n    .dataframe tbody tr th {\n        vertical-align: top;\n    }\n\n    .dataframe thead th {\n        text-align: right;\n    }\n</style>\n<table border=\"1\" class=\"dataframe\">\n  <thead>\n    <tr style=\"text-align: right;\">\n      <th></th>\n      <th>division_number</th>\n      <th>president</th>\n      <th>title</th>\n      <th>date</th>\n      <th>location</th>\n      <th>kind</th>\n      <th>speech_text</th>\n      <th>speech_text_nouns</th>\n    </tr>\n  </thead>\n  <tbody>\n    <tr>\n      <th>5368</th>\n      <td>1305368</td>\n      <td>박정희</td>\n      <td>제5대 대통령 취임식 대통령 취임사</td>\n      <td>1963.12.17</td>\n      <td>국내</td>\n      <td>취임사</td>\n      <td>\\n\\n\\n단군성조가 천혜의 이 강토 위에 국기를 닦으신지 반만년, 연면히 이어온 ...</td>\n      <td>[단군, 조가, 천혜, 이, 강토, 위, 국기, 신지, 반만년, 연, 온, 역사, ...</td>\n    </tr>\n    <tr>\n      <th>5369</th>\n      <td>1305369</td>\n      <td>박정희</td>\n      <td>국회 개회식 치사</td>\n      <td>1963.12.17</td>\n      <td>국내</td>\n      <td>기념사</td>\n      <td>존경하는 국회의장, 의원제위 그리고 내외귀빈 여러분! 오늘 이 뜻깊은 제3공화국의...</td>\n      <td>[존경, 국회의장, 의원, 제위, 내외, 귀빈, 여러분, 오늘, 이, 뜻, 제, 공...</td>\n    </tr>\n    <tr>\n      <th>5370</th>\n      <td>1305370</td>\n      <td>박정희</td>\n      <td>신년 메시지</td>\n      <td>1964.01.01</td>\n      <td>국내</td>\n      <td>신년사</td>\n      <td>친애하는 국내외의 동포 여러분! 혁명의 고된 시련을 겪고 민정이양으로 매듭을 지은...</td>\n      <td>[국내외, 동포, 여러분, 혁명, 고, 시련, 민정, 이양, 매듭, 지은, 해, 계...</td>\n    </tr>\n    <tr>\n      <th>5371</th>\n      <td>1305371</td>\n      <td>박정희</td>\n      <td>신년 시무식에 즈음한 담화문</td>\n      <td>1964</td>\n      <td>국내</td>\n      <td>성명/담화문</td>\n      <td>친애하는 전국의 공무원 여러분! 민족 역사 위에 격동과 시련의 해로 길이 기록될 계...</td>\n      <td>[전국, 공무원, 여러분, 민족, 역사, 위, 격동, 시련, 길이, 기록, 계묘년,...</td>\n    </tr>\n    <tr>\n      <th>5372</th>\n      <td>1305372</td>\n      <td>박정희</td>\n      <td>고급공무원에게 보내는 서신</td>\n      <td>1964.01.04</td>\n      <td>국내</td>\n      <td>기념사</td>\n      <td>청 감갑진년의 새아침을 맞이하여 귀하와 귀하의 가정에 만복이 깃들기를 빌며, 새해에...</td>\n      <td>[청, 감, 갑진년, 아침, 맞이, 귀하, 귀하, 가정, 만복, 깃, 새해, 국, ...</td>\n    </tr>\n    <tr>\n      <th>...</th>\n      <td>...</td>\n      <td>...</td>\n      <td>...</td>\n      <td>...</td>\n      <td>...</td>\n      <td>...</td>\n      <td>...</td>\n      <td>...</td>\n    </tr>\n    <tr>\n      <th>102587</th>\n      <td>1401987</td>\n      <td>문재인</td>\n      <td>수석·보좌관회의</td>\n      <td>2021.04.05</td>\n      <td>국내</td>\n      <td>회의</td>\n      <td>우리가 코로나19 이전으로 얼마나 빨리 돌아갈 수 있는지 여부는 오로지 방역과 백신...</td>\n      <td>[우리, 코로나, 이전, 얼마나, 수, 여부, 방역, 백신, 접종, 세계, 각국, ...</td>\n    </tr>\n    <tr>\n      <th>102588</th>\n      <td>1401988</td>\n      <td>문재인</td>\n      <td>제16회 국무회의</td>\n      <td>2021.04.13</td>\n      <td>국내</td>\n      <td>회의</td>\n      <td>정부는 국민께 무한책임을 진다는 자세로 흔들림 없이 국정에 임해야 합니다.방역도, ...</td>\n      <td>[정부, 국민, 무한, 책임, 자세, 국정, 임해, 방역, 경제, 민생, 안보, 한...</td>\n    </tr>\n    <tr>\n      <th>102589</th>\n      <td>1401989</td>\n      <td>문재인</td>\n      <td>수석·보좌관회의</td>\n      <td>2021.04.19</td>\n      <td>국내</td>\n      <td>회의</td>\n      <td>우리 정부 임기 마지막 날까지 흔들림 없이 국민과 역사가 부여한 책무를 다하자는 다...</td>\n      <td>[우리, 정부, 임기, 마지막, 날, 국민, 역사, 부여, 책무, 하자, 다짐, 국...</td>\n    </tr>\n    <tr>\n      <th>102590</th>\n      <td>1401990</td>\n      <td>문재인</td>\n      <td>수석·보좌관회의</td>\n      <td>2021.04.26</td>\n      <td>국내</td>\n      <td>회의</td>\n      <td>코로나19와 같은 감염병의 세계적 대유행은 어느 한 나라가 자국의 문제를 해결한다고...</td>\n      <td>[코로나, 감염병, 세계, 대유행, 나라, 자국, 문제, 해결, 것, 때문, 다른,...</td>\n    </tr>\n    <tr>\n      <th>102591</th>\n      <td>1401991</td>\n      <td>문재인</td>\n      <td>제18회 국무회의</td>\n      <td>2021.04.27</td>\n      <td>국내</td>\n      <td>회의</td>\n      <td>오늘 한국은행이 발표한 1분기 GDP 속보치에 따르면 우리 경제는 올해 1분기에 이...</td>\n      <td>[오늘, 한국은행, 발표, 속보, 치, 우리, 경제, 올해, 코로나, 이전, 경제,...</td>\n    </tr>\n  </tbody>\n</table>\n<p>8771 rows × 8 columns</p>\n</div>"
     },
     "execution_count": 5,
     "metadata": {},
     "output_type": "execute_result"
    }
   ],
   "source": [
    "df_origin"
   ]
  },
  {
   "cell_type": "code",
   "execution_count": 7,
   "outputs": [],
   "source": [
    "# df_origin.to_parquet(f'{get_parquet_tmp_dir()}/nouns.parquet')\n",
    "df_origin.to_parquet('/Users/m2/code/edu/president-speech/src/president_speech/db/parquet_tmp/nouns.parquet')"
   ],
   "metadata": {
    "collapsed": false,
    "ExecuteTime": {
     "end_time": "2023-09-09T03:57:46.700519Z",
     "start_time": "2023-09-09T03:57:46.288121Z"
    }
   },
   "id": "2188eb16f9597b5f"
  },
  {
   "cell_type": "code",
   "execution_count": 28,
   "outputs": [],
   "source": [
    "df_nouns = pd.read_parquet(f'{get_parquet_tmp_dir()}/nouns.parquet')"
   ],
   "metadata": {
    "collapsed": false,
    "ExecuteTime": {
     "end_time": "2023-09-12T01:04:47.055162Z",
     "start_time": "2023-09-12T01:04:46.877265Z"
    }
   },
   "id": "dabc2952b3437a03"
  },
  {
   "cell_type": "code",
   "execution_count": 6,
   "outputs": [
    {
     "data": {
      "text/plain": "      division_number                                  speech_text_nouns\n5368          1305368  [단군, 조가, 천혜, 이, 강토, 위, 국기, 신지, 반만년, 연, 온, 역사, ...\n5369          1305369  [존경, 국회의장, 의원, 제위, 내외, 귀빈, 여러분, 오늘, 이, 뜻, 제, 공...\n5370          1305370  [국내외, 동포, 여러분, 혁명, 고, 시련, 민정, 이양, 매듭, 지은, 해, 계...\n5371          1305371  [전국, 공무원, 여러분, 민족, 역사, 위, 격동, 시련, 길이, 기록, 계묘년,...\n5372          1305372  [청, 감, 갑진년, 아침, 맞이, 귀하, 귀하, 가정, 만복, 깃, 새해, 국, ...",
      "text/html": "<div>\n<style scoped>\n    .dataframe tbody tr th:only-of-type {\n        vertical-align: middle;\n    }\n\n    .dataframe tbody tr th {\n        vertical-align: top;\n    }\n\n    .dataframe thead th {\n        text-align: right;\n    }\n</style>\n<table border=\"1\" class=\"dataframe\">\n  <thead>\n    <tr style=\"text-align: right;\">\n      <th></th>\n      <th>division_number</th>\n      <th>speech_text_nouns</th>\n    </tr>\n  </thead>\n  <tbody>\n    <tr>\n      <th>5368</th>\n      <td>1305368</td>\n      <td>[단군, 조가, 천혜, 이, 강토, 위, 국기, 신지, 반만년, 연, 온, 역사, ...</td>\n    </tr>\n    <tr>\n      <th>5369</th>\n      <td>1305369</td>\n      <td>[존경, 국회의장, 의원, 제위, 내외, 귀빈, 여러분, 오늘, 이, 뜻, 제, 공...</td>\n    </tr>\n    <tr>\n      <th>5370</th>\n      <td>1305370</td>\n      <td>[국내외, 동포, 여러분, 혁명, 고, 시련, 민정, 이양, 매듭, 지은, 해, 계...</td>\n    </tr>\n    <tr>\n      <th>5371</th>\n      <td>1305371</td>\n      <td>[전국, 공무원, 여러분, 민족, 역사, 위, 격동, 시련, 길이, 기록, 계묘년,...</td>\n    </tr>\n    <tr>\n      <th>5372</th>\n      <td>1305372</td>\n      <td>[청, 감, 갑진년, 아침, 맞이, 귀하, 귀하, 가정, 만복, 깃, 새해, 국, ...</td>\n    </tr>\n  </tbody>\n</table>\n</div>"
     },
     "execution_count": 6,
     "metadata": {},
     "output_type": "execute_result"
    }
   ],
   "source": [
    "df_nouns.head(5)"
   ],
   "metadata": {
    "collapsed": false,
    "ExecuteTime": {
     "end_time": "2023-09-11T23:53:27.341063Z",
     "start_time": "2023-09-11T23:53:27.332643Z"
    }
   },
   "id": "de2bb8142e0a03a4"
  },
  {
   "cell_type": "code",
   "execution_count": 31,
   "outputs": [],
   "source": [
    "df_nouns[\"count\"] = df_nouns[\"speech_text_nouns\"].apply(lambda x: dict(Counter(x)))"
   ],
   "metadata": {
    "collapsed": false,
    "ExecuteTime": {
     "end_time": "2023-09-12T01:05:14.749402Z",
     "start_time": "2023-09-12T01:05:14.508836Z"
    }
   },
   "id": "953ca830a8c782ad"
  },
  {
   "cell_type": "code",
   "execution_count": 37,
   "outputs": [],
   "source": [
    "# import numpy as np\n",
    "# for i in range(len(df_nouns)):\n",
    "#     speech_text_nouns = df_nouns.iloc[i, 1]\n",
    "#     # \n",
    "#     if isinstance(speech_text_nouns, np.ndarray):\n",
    "#         continue\n",
    "#     else:\n",
    "#         print(type(speech_text_nouns))\n",
    "#         print(speech_text_nouns)"
   ],
   "metadata": {
    "collapsed": false,
    "ExecuteTime": {
     "end_time": "2023-09-12T01:14:01.620432Z",
     "start_time": "2023-09-12T01:14:01.609743Z"
    }
   },
   "id": "428725b591c5a002"
  },
  {
   "cell_type": "code",
   "execution_count": 35,
   "outputs": [
    {
     "data": {
      "text/plain": "      division_number                                  speech_text_nouns  \\\n5368          1305368  [단군, 조가, 천혜, 이, 강토, 위, 국기, 신지, 반만년, 연, 온, 역사, ...   \n5369          1305369  [존경, 국회의장, 의원, 제위, 내외, 귀빈, 여러분, 오늘, 이, 뜻, 제, 공...   \n5370          1305370  [국내외, 동포, 여러분, 혁명, 고, 시련, 민정, 이양, 매듭, 지은, 해, 계...   \n5371          1305371  [전국, 공무원, 여러분, 민족, 역사, 위, 격동, 시련, 길이, 기록, 계묘년,...   \n5372          1305372  [청, 감, 갑진년, 아침, 맞이, 귀하, 귀하, 가정, 만복, 깃, 새해, 국, ...   \n\n                                                  count  \n5368  {'단군': 1, '조가': 1, '천혜': 1, '이': 24, '강토': 2, ...  \n5369  {'존경': 2, '국회의장': 1, '의원': 5, '제위': 1, '내외': 1...  \n5370  {'국내외': 2, '동포': 5, '여러분': 11, '혁명': 3, '고': 1...  \n5371  {'전국': 1, '공무원': 10, '여러분': 11, '민족': 1, '역사':...  \n5372  {'청': 1, '감': 1, '갑진년': 1, '아침': 1, '맞이': 1, '...  ",
      "text/html": "<div>\n<style scoped>\n    .dataframe tbody tr th:only-of-type {\n        vertical-align: middle;\n    }\n\n    .dataframe tbody tr th {\n        vertical-align: top;\n    }\n\n    .dataframe thead th {\n        text-align: right;\n    }\n</style>\n<table border=\"1\" class=\"dataframe\">\n  <thead>\n    <tr style=\"text-align: right;\">\n      <th></th>\n      <th>division_number</th>\n      <th>speech_text_nouns</th>\n      <th>count</th>\n    </tr>\n  </thead>\n  <tbody>\n    <tr>\n      <th>5368</th>\n      <td>1305368</td>\n      <td>[단군, 조가, 천혜, 이, 강토, 위, 국기, 신지, 반만년, 연, 온, 역사, ...</td>\n      <td>{'단군': 1, '조가': 1, '천혜': 1, '이': 24, '강토': 2, ...</td>\n    </tr>\n    <tr>\n      <th>5369</th>\n      <td>1305369</td>\n      <td>[존경, 국회의장, 의원, 제위, 내외, 귀빈, 여러분, 오늘, 이, 뜻, 제, 공...</td>\n      <td>{'존경': 2, '국회의장': 1, '의원': 5, '제위': 1, '내외': 1...</td>\n    </tr>\n    <tr>\n      <th>5370</th>\n      <td>1305370</td>\n      <td>[국내외, 동포, 여러분, 혁명, 고, 시련, 민정, 이양, 매듭, 지은, 해, 계...</td>\n      <td>{'국내외': 2, '동포': 5, '여러분': 11, '혁명': 3, '고': 1...</td>\n    </tr>\n    <tr>\n      <th>5371</th>\n      <td>1305371</td>\n      <td>[전국, 공무원, 여러분, 민족, 역사, 위, 격동, 시련, 길이, 기록, 계묘년,...</td>\n      <td>{'전국': 1, '공무원': 10, '여러분': 11, '민족': 1, '역사':...</td>\n    </tr>\n    <tr>\n      <th>5372</th>\n      <td>1305372</td>\n      <td>[청, 감, 갑진년, 아침, 맞이, 귀하, 귀하, 가정, 만복, 깃, 새해, 국, ...</td>\n      <td>{'청': 1, '감': 1, '갑진년': 1, '아침': 1, '맞이': 1, '...</td>\n    </tr>\n  </tbody>\n</table>\n</div>"
     },
     "execution_count": 35,
     "metadata": {},
     "output_type": "execute_result"
    }
   ],
   "source": [
    "df_nouns.head(5)"
   ],
   "metadata": {
    "collapsed": false,
    "ExecuteTime": {
     "end_time": "2023-09-12T01:12:44.340398Z",
     "start_time": "2023-09-12T01:12:44.337002Z"
    }
   },
   "id": "6978e265ed0c9250"
  },
  {
   "cell_type": "code",
   "execution_count": 36,
   "outputs": [],
   "source": [
    "df_nouns.to_parquet(f\"{get_parquet_tmp_dir()}/nouns_count.parquet\")"
   ],
   "metadata": {
    "collapsed": false,
    "ExecuteTime": {
     "end_time": "2023-09-12T01:14:01.608413Z",
     "start_time": "2023-09-12T01:13:40.557814Z"
    }
   },
   "id": "24245f7df09e695d"
  },
  {
   "cell_type": "code",
   "execution_count": null,
   "outputs": [],
   "source": [],
   "metadata": {
    "collapsed": false
   },
   "id": "5a97cd6718a194c8"
  }
 ],
 "metadata": {
  "kernelspec": {
   "display_name": "Python 3 (ipykernel)",
   "language": "python",
   "name": "python3"
  },
  "language_info": {
   "codemirror_mode": {
    "name": "ipython",
    "version": 3
   },
   "file_extension": ".py",
   "mimetype": "text/x-python",
   "name": "python",
   "nbconvert_exporter": "python",
   "pygments_lexer": "ipython3",
   "version": "3.9.16"
  }
 },
 "nbformat": 4,
 "nbformat_minor": 5
}
