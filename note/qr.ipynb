{
 "cells": [
  {
   "cell_type": "code",
   "execution_count": 1,
   "id": "initial_id",
   "metadata": {
    "collapsed": true,
    "ExecuteTime": {
     "end_time": "2023-09-13T03:36:59.499883Z",
     "start_time": "2023-09-13T03:36:58.542836Z"
    }
   },
   "outputs": [
    {
     "ename": "AttributeError",
     "evalue": "<class 'segno.QRCode'> object has no attribute to_artistic",
     "output_type": "error",
     "traceback": [
      "\u001B[0;31m---------------------------------------------------------------------------\u001B[0m",
      "\u001B[0;31mAttributeError\u001B[0m                            Traceback (most recent call last)",
      "Cell \u001B[0;32mIn[1], line 6\u001B[0m\n\u001B[1;32m      4\u001B[0m slts_qrcode \u001B[38;5;241m=\u001B[39m segno\u001B[38;5;241m.\u001B[39mmake_qr(\u001B[38;5;124m\"\u001B[39m\u001B[38;5;124mhttps://www.youtube.com/watch?v=hTWKbfoikeg\u001B[39m\u001B[38;5;124m\"\u001B[39m)\n\u001B[1;32m      5\u001B[0m nirvana_url \u001B[38;5;241m=\u001B[39m urlopen(\u001B[38;5;124m\"\u001B[39m\u001B[38;5;124mhttps://media.giphy.com/media/LpwBqCorPvZC0/giphy.gif\u001B[39m\u001B[38;5;124m\"\u001B[39m)\n\u001B[0;32m----> 6\u001B[0m \u001B[43mslts_qrcode\u001B[49m\u001B[38;5;241;43m.\u001B[39;49m\u001B[43mto_artistic\u001B[49m(\n\u001B[1;32m      7\u001B[0m     background\u001B[38;5;241m=\u001B[39mnirvana_url,\n\u001B[1;32m      8\u001B[0m     target\u001B[38;5;241m=\u001B[39m\u001B[38;5;124m\"\u001B[39m\u001B[38;5;124manimated_qrcode.gif\u001B[39m\u001B[38;5;124m\"\u001B[39m,\n\u001B[1;32m      9\u001B[0m     scale\u001B[38;5;241m=\u001B[39m\u001B[38;5;241m5\u001B[39m,\n\u001B[1;32m     10\u001B[0m )\n",
      "File \u001B[0;32m~/code/edu/president-speech/.venv/lib/python3.8/site-packages/segno/__init__.py:970\u001B[0m, in \u001B[0;36mQRCode.__getattr__\u001B[0;34m(self, name)\u001B[0m\n\u001B[1;32m    968\u001B[0m         plugin \u001B[38;5;241m=\u001B[39m ep\u001B[38;5;241m.\u001B[39mload()\n\u001B[1;32m    969\u001B[0m         \u001B[38;5;28;01mreturn\u001B[39;00m partial(plugin, \u001B[38;5;28mself\u001B[39m)\n\u001B[0;32m--> 970\u001B[0m \u001B[38;5;28;01mraise\u001B[39;00m \u001B[38;5;167;01mAttributeError\u001B[39;00m(\u001B[38;5;124m'\u001B[39m\u001B[38;5;132;01m{0}\u001B[39;00m\u001B[38;5;124m object has no attribute \u001B[39m\u001B[38;5;132;01m{1}\u001B[39;00m\u001B[38;5;124m'\u001B[39m\n\u001B[1;32m    971\u001B[0m                      \u001B[38;5;241m.\u001B[39mformat(\u001B[38;5;28mself\u001B[39m\u001B[38;5;241m.\u001B[39m\u001B[38;5;18m__class__\u001B[39m, name))\n",
      "\u001B[0;31mAttributeError\u001B[0m: <class 'segno.QRCode'> object has no attribute to_artistic"
     ]
    }
   ],
   "source": [
    "import segno\n",
    "from urllib.request import urlopen\n",
    "\n",
    "slts_qrcode = segno.make_qr(\"https://www.youtube.com/watch?v=hTWKbfoikeg\")\n",
    "nirvana_url = urlopen(\"https://media.giphy.com/media/LpwBqCorPvZC0/giphy.gif\")\n",
    "slts_qrcode.to_artistic(\n",
    "    background=nirvana_url,\n",
    "    target=\"animated_qrcode.gif\",\n",
    "    scale=5,\n",
    ")"
   ]
  },
  {
   "cell_type": "code",
   "execution_count": null,
   "outputs": [],
   "source": [],
   "metadata": {
    "collapsed": false
   },
   "id": "649ed3f116fe8c8a"
  }
 ],
 "metadata": {
  "kernelspec": {
   "display_name": "Python 3",
   "language": "python",
   "name": "python3"
  },
  "language_info": {
   "codemirror_mode": {
    "name": "ipython",
    "version": 2
   },
   "file_extension": ".py",
   "mimetype": "text/x-python",
   "name": "python",
   "nbconvert_exporter": "python",
   "pygments_lexer": "ipython2",
   "version": "2.7.6"
  }
 },
 "nbformat": 4,
 "nbformat_minor": 5
}
