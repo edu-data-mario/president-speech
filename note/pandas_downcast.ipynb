{
 "cells": [
  {
   "cell_type": "code",
   "execution_count": 1,
   "id": "initial_id",
   "metadata": {
    "collapsed": true,
    "ExecuteTime": {
     "end_time": "2023-09-07T02:45:48.398409Z",
     "start_time": "2023-09-07T02:45:48.036161Z"
    }
   },
   "outputs": [],
   "source": [
    "import pandas as pd\n",
    "from president_speech.db.parquet_interpreter import get_parquet_full_path"
   ]
  },
  {
   "cell_type": "code",
   "execution_count": 2,
   "outputs": [
    {
     "name": "stdout",
     "output_type": "stream",
     "text": [
      "<class 'pandas.core.frame.DataFrame'>\n",
      "Index: 8771 entries, 5368 to 102591\n",
      "Data columns (total 7 columns):\n",
      " #   Column           Non-Null Count  Dtype \n",
      "---  ------           --------------  ----- \n",
      " 0   division_number  8771 non-null   int64 \n",
      " 1   president        8771 non-null   object\n",
      " 2   title            8771 non-null   object\n",
      " 3   date             8771 non-null   object\n",
      " 4   location         8771 non-null   object\n",
      " 5   kind             8771 non-null   object\n",
      " 6   speech_text      8771 non-null   object\n",
      "dtypes: int64(1), object(6)\n",
      "memory usage: 548.2+ KB\n"
     ]
    }
   ],
   "source": [
    "parquet_full_path = get_parquet_full_path()\n",
    "df = pd.read_parquet(parquet_full_path)\n",
    "df.info()"
   ],
   "metadata": {
    "collapsed": false,
    "ExecuteTime": {
     "end_time": "2023-09-07T02:46:13.550161Z",
     "start_time": "2023-09-07T02:46:13.374840Z"
    }
   },
   "id": "a1ba618e54f73d1a"
  },
  {
   "cell_type": "code",
   "execution_count": 4,
   "outputs": [],
   "source": [
    "# https://pypi.org/project/pandas-downcast/\n",
    "import pdcast as pdc"
   ],
   "metadata": {
    "collapsed": false,
    "ExecuteTime": {
     "end_time": "2023-09-07T02:47:31.235751Z",
     "start_time": "2023-09-07T02:47:31.231610Z"
    }
   },
   "id": "676614f0da78019e"
  },
  {
   "cell_type": "code",
   "execution_count": 6,
   "outputs": [
    {
     "name": "stdout",
     "output_type": "stream",
     "text": [
      "<class 'pandas.core.frame.DataFrame'>\n",
      "Index: 8771 entries, 5368 to 102591\n",
      "Data columns (total 7 columns):\n",
      " #   Column           Non-Null Count  Dtype   \n",
      "---  ------           --------------  -----   \n",
      " 0   division_number  8771 non-null   uint32  \n",
      " 1   president        8771 non-null   category\n",
      " 2   title            8771 non-null   object  \n",
      " 3   date             8771 non-null   category\n",
      " 4   location         8771 non-null   category\n",
      " 5   kind             8771 non-null   category\n",
      " 6   speech_text      8771 non-null   object  \n",
      "dtypes: category(4), object(2), uint32(1)\n",
      "memory usage: 593.1+ KB\n"
     ]
    }
   ],
   "source": [
    "df_downcast = pdc.downcast(df)\n",
    "df_downcast.info()"
   ],
   "metadata": {
    "collapsed": false,
    "ExecuteTime": {
     "end_time": "2023-09-07T02:47:47.303833Z",
     "start_time": "2023-09-07T02:47:47.090441Z"
    }
   },
   "id": "e7cd23de8297d6a9"
  },
  {
   "cell_type": "markdown",
   "source": [
    "### 더 커짐 실패!"
   ],
   "metadata": {
    "collapsed": false
   },
   "id": "1c94dfdde83bd34d"
  },
  {
   "cell_type": "code",
   "execution_count": 7,
   "outputs": [
    {
     "data": {
      "text/plain": "'/Users/m2/code/edu/president-speech/src/president_speech/db/parquet/president_speech_ko.parquet'"
     },
     "execution_count": 7,
     "metadata": {},
     "output_type": "execute_result"
    }
   ],
   "source": [
    "get_parquet_full_path()"
   ],
   "metadata": {
    "collapsed": false,
    "ExecuteTime": {
     "end_time": "2023-09-07T02:52:41.685056Z",
     "start_time": "2023-09-07T02:52:41.681688Z"
    }
   },
   "id": "1f42db126ba6bdc0"
  },
  {
   "cell_type": "code",
   "execution_count": 9,
   "outputs": [],
   "source": [
    "path_downcast_1 = \"/Users/m2/code/edu/president-speech/src/president_speech/db/parquet/president_speech_downcast_1_ko.parquet\"\n",
    "df_downcast.to_parquet(path_downcast_1)"
   ],
   "metadata": {
    "collapsed": false,
    "ExecuteTime": {
     "end_time": "2023-09-07T02:54:47.486782Z",
     "start_time": "2023-09-07T02:54:47.301821Z"
    }
   },
   "id": "1dbe8ab0f22d15dd"
  },
  {
   "cell_type": "code",
   "execution_count": 10,
   "outputs": [
    {
     "name": "stdout",
     "output_type": "stream",
     "text": [
      "<class 'pandas.core.frame.DataFrame'>\n",
      "Index: 8771 entries, 5368 to 102591\n",
      "Data columns (total 7 columns):\n",
      " #   Column           Non-Null Count  Dtype   \n",
      "---  ------           --------------  -----   \n",
      " 0   division_number  8771 non-null   uint32  \n",
      " 1   president        8771 non-null   category\n",
      " 2   title            8771 non-null   object  \n",
      " 3   date             8771 non-null   category\n",
      " 4   location         8771 non-null   category\n",
      " 5   kind             8771 non-null   category\n",
      " 6   speech_text      8771 non-null   object  \n",
      "dtypes: category(4), object(2), uint32(1)\n",
      "memory usage: 593.1+ KB\n"
     ]
    }
   ],
   "source": [
    "df_downcast = pd.read_parquet(path_downcast_1)\n",
    "df_downcast.info()"
   ],
   "metadata": {
    "collapsed": false,
    "ExecuteTime": {
     "end_time": "2023-09-07T02:55:14.011052Z",
     "start_time": "2023-09-07T02:55:13.849236Z"
    }
   },
   "id": "60696cea59aa62a7"
  },
  {
   "cell_type": "code",
   "execution_count": null,
   "outputs": [],
   "source": [],
   "metadata": {
    "collapsed": false
   },
   "id": "81bddb2ec575d664"
  }
 ],
 "metadata": {
  "kernelspec": {
   "display_name": "Python 3",
   "language": "python",
   "name": "python3"
  },
  "language_info": {
   "codemirror_mode": {
    "name": "ipython",
    "version": 2
   },
   "file_extension": ".py",
   "mimetype": "text/x-python",
   "name": "python",
   "nbconvert_exporter": "python",
   "pygments_lexer": "ipython2",
   "version": "2.7.6"
  }
 },
 "nbformat": 4,
 "nbformat_minor": 5
}
