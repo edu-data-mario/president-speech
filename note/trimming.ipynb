{
 "cells": [
  {
   "cell_type": "code",
   "execution_count": 4,
   "id": "initial_id",
   "metadata": {
    "collapsed": true,
    "ExecuteTime": {
     "end_time": "2023-09-07T01:33:35.713927Z",
     "start_time": "2023-09-07T01:33:35.705120Z"
    }
   },
   "outputs": [],
   "source": [
    "import pandas as pd\n",
    "from president_speech.db.parquet_interpreter import get_parquet_full_path"
   ]
  },
  {
   "cell_type": "code",
   "execution_count": 5,
   "outputs": [],
   "source": [
    "parquet_full_path = get_parquet_full_path()\n",
    "df = pd.read_parquet(parquet_full_path)"
   ],
   "metadata": {
    "collapsed": false,
    "ExecuteTime": {
     "end_time": "2023-09-07T01:33:42.993562Z",
     "start_time": "2023-09-07T01:33:42.814294Z"
    }
   },
   "id": "833b7be1a56ccafc"
  },
  {
   "cell_type": "code",
   "execution_count": 7,
   "outputs": [
    {
     "name": "stdout",
     "output_type": "stream",
     "text": [
      "<class 'pandas.core.frame.DataFrame'>\n",
      "Index: 8771 entries, 5368 to 102591\n",
      "Data columns (total 7 columns):\n",
      " #   Column           Non-Null Count  Dtype \n",
      "---  ------           --------------  ----- \n",
      " 0   division_number  8771 non-null   int64 \n",
      " 1   president        8771 non-null   object\n",
      " 2   title            8771 non-null   object\n",
      " 3   date             8771 non-null   object\n",
      " 4   location         8771 non-null   object\n",
      " 5   kind             8771 non-null   object\n",
      " 6   speech_text      8771 non-null   object\n",
      "dtypes: int64(1), object(6)\n",
      "memory usage: 548.2+ KB\n"
     ]
    }
   ],
   "source": [
    "df.info()"
   ],
   "metadata": {
    "collapsed": false,
    "ExecuteTime": {
     "end_time": "2023-09-07T01:33:58.075823Z",
     "start_time": "2023-09-07T01:33:58.069878Z"
    }
   },
   "id": "7c14dc0484fede38"
  },
  {
   "cell_type": "code",
   "execution_count": 6,
   "outputs": [
    {
     "data": {
      "text/plain": "        division_number president                title        date location  \\\n5368            1305368       박정희  제5대 대통령 취임식 대통령 취임사  1963.12.17       국내   \n5369            1305369       박정희            국회 개회식 치사  1963.12.17       국내   \n5370            1305370       박정희               신년 메시지  1964.01.01       국내   \n5371            1305371       박정희      신년 시무식에 즈음한 담화문        1964       국내   \n5372            1305372       박정희       고급공무원에게 보내는 서신  1964.01.04       국내   \n...                 ...       ...                  ...         ...      ...   \n102587          1401987       문재인             수석·보좌관회의  2021.04.05       국내   \n102588          1401988       문재인            제16회 국무회의  2021.04.13       국내   \n102589          1401989       문재인             수석·보좌관회의  2021.04.19       국내   \n102590          1401990       문재인             수석·보좌관회의  2021.04.26       국내   \n102591          1401991       문재인            제18회 국무회의  2021.04.27       국내   \n\n          kind                                        speech_text  \n5368       취임사  \\n\\n\\n단군성조가 천혜의 이 강토 위에 국기를 닦으신지 반만년, 연면히 이어온 ...  \n5369       기념사   존경하는 국회의장, 의원제위 그리고 내외귀빈 여러분! 오늘 이 뜻깊은 제3공화국의...  \n5370       신년사   친애하는 국내외의 동포 여러분! 혁명의 고된 시련을 겪고 민정이양으로 매듭을 지은...  \n5371    성명/담화문  친애하는 전국의 공무원 여러분! 민족 역사 위에 격동과 시련의 해로 길이 기록될 계...  \n5372       기념사  청 감갑진년의 새아침을 맞이하여 귀하와 귀하의 가정에 만복이 깃들기를 빌며, 새해에...  \n...        ...                                                ...  \n102587      회의  우리가 코로나19 이전으로 얼마나 빨리 돌아갈 수 있는지 여부는 오로지 방역과 백신...  \n102588      회의  정부는 국민께 무한책임을 진다는 자세로 흔들림 없이 국정에 임해야 합니다.방역도, ...  \n102589      회의  우리 정부 임기 마지막 날까지 흔들림 없이 국민과 역사가 부여한 책무를 다하자는 다...  \n102590      회의  코로나19와 같은 감염병의 세계적 대유행은 어느 한 나라가 자국의 문제를 해결한다고...  \n102591      회의  오늘 한국은행이 발표한 1분기 GDP 속보치에 따르면 우리 경제는 올해 1분기에 이...  \n\n[8771 rows x 7 columns]",
      "text/html": "<div>\n<style scoped>\n    .dataframe tbody tr th:only-of-type {\n        vertical-align: middle;\n    }\n\n    .dataframe tbody tr th {\n        vertical-align: top;\n    }\n\n    .dataframe thead th {\n        text-align: right;\n    }\n</style>\n<table border=\"1\" class=\"dataframe\">\n  <thead>\n    <tr style=\"text-align: right;\">\n      <th></th>\n      <th>division_number</th>\n      <th>president</th>\n      <th>title</th>\n      <th>date</th>\n      <th>location</th>\n      <th>kind</th>\n      <th>speech_text</th>\n    </tr>\n  </thead>\n  <tbody>\n    <tr>\n      <th>5368</th>\n      <td>1305368</td>\n      <td>박정희</td>\n      <td>제5대 대통령 취임식 대통령 취임사</td>\n      <td>1963.12.17</td>\n      <td>국내</td>\n      <td>취임사</td>\n      <td>\\n\\n\\n단군성조가 천혜의 이 강토 위에 국기를 닦으신지 반만년, 연면히 이어온 ...</td>\n    </tr>\n    <tr>\n      <th>5369</th>\n      <td>1305369</td>\n      <td>박정희</td>\n      <td>국회 개회식 치사</td>\n      <td>1963.12.17</td>\n      <td>국내</td>\n      <td>기념사</td>\n      <td>존경하는 국회의장, 의원제위 그리고 내외귀빈 여러분! 오늘 이 뜻깊은 제3공화국의...</td>\n    </tr>\n    <tr>\n      <th>5370</th>\n      <td>1305370</td>\n      <td>박정희</td>\n      <td>신년 메시지</td>\n      <td>1964.01.01</td>\n      <td>국내</td>\n      <td>신년사</td>\n      <td>친애하는 국내외의 동포 여러분! 혁명의 고된 시련을 겪고 민정이양으로 매듭을 지은...</td>\n    </tr>\n    <tr>\n      <th>5371</th>\n      <td>1305371</td>\n      <td>박정희</td>\n      <td>신년 시무식에 즈음한 담화문</td>\n      <td>1964</td>\n      <td>국내</td>\n      <td>성명/담화문</td>\n      <td>친애하는 전국의 공무원 여러분! 민족 역사 위에 격동과 시련의 해로 길이 기록될 계...</td>\n    </tr>\n    <tr>\n      <th>5372</th>\n      <td>1305372</td>\n      <td>박정희</td>\n      <td>고급공무원에게 보내는 서신</td>\n      <td>1964.01.04</td>\n      <td>국내</td>\n      <td>기념사</td>\n      <td>청 감갑진년의 새아침을 맞이하여 귀하와 귀하의 가정에 만복이 깃들기를 빌며, 새해에...</td>\n    </tr>\n    <tr>\n      <th>...</th>\n      <td>...</td>\n      <td>...</td>\n      <td>...</td>\n      <td>...</td>\n      <td>...</td>\n      <td>...</td>\n      <td>...</td>\n    </tr>\n    <tr>\n      <th>102587</th>\n      <td>1401987</td>\n      <td>문재인</td>\n      <td>수석·보좌관회의</td>\n      <td>2021.04.05</td>\n      <td>국내</td>\n      <td>회의</td>\n      <td>우리가 코로나19 이전으로 얼마나 빨리 돌아갈 수 있는지 여부는 오로지 방역과 백신...</td>\n    </tr>\n    <tr>\n      <th>102588</th>\n      <td>1401988</td>\n      <td>문재인</td>\n      <td>제16회 국무회의</td>\n      <td>2021.04.13</td>\n      <td>국내</td>\n      <td>회의</td>\n      <td>정부는 국민께 무한책임을 진다는 자세로 흔들림 없이 국정에 임해야 합니다.방역도, ...</td>\n    </tr>\n    <tr>\n      <th>102589</th>\n      <td>1401989</td>\n      <td>문재인</td>\n      <td>수석·보좌관회의</td>\n      <td>2021.04.19</td>\n      <td>국내</td>\n      <td>회의</td>\n      <td>우리 정부 임기 마지막 날까지 흔들림 없이 국민과 역사가 부여한 책무를 다하자는 다...</td>\n    </tr>\n    <tr>\n      <th>102590</th>\n      <td>1401990</td>\n      <td>문재인</td>\n      <td>수석·보좌관회의</td>\n      <td>2021.04.26</td>\n      <td>국내</td>\n      <td>회의</td>\n      <td>코로나19와 같은 감염병의 세계적 대유행은 어느 한 나라가 자국의 문제를 해결한다고...</td>\n    </tr>\n    <tr>\n      <th>102591</th>\n      <td>1401991</td>\n      <td>문재인</td>\n      <td>제18회 국무회의</td>\n      <td>2021.04.27</td>\n      <td>국내</td>\n      <td>회의</td>\n      <td>오늘 한국은행이 발표한 1분기 GDP 속보치에 따르면 우리 경제는 올해 1분기에 이...</td>\n    </tr>\n  </tbody>\n</table>\n<p>8771 rows × 7 columns</p>\n</div>"
     },
     "execution_count": 6,
     "metadata": {},
     "output_type": "execute_result"
    }
   ],
   "source": [
    "df"
   ],
   "metadata": {
    "collapsed": false,
    "ExecuteTime": {
     "end_time": "2023-09-07T01:33:47.366520Z",
     "start_time": "2023-09-07T01:33:47.337555Z"
    }
   },
   "id": "98d1c0ab4eb198e9"
  },
  {
   "cell_type": "code",
   "execution_count": 16,
   "outputs": [
    {
     "data": {
      "text/plain": "           size         min         max\npresident                              \n이명박        1027              2013.02.07\n이승만         998        1948  1959.03.10\n윤보선           3  1960.08.13  1960.09.15\n박정희        1270  1963.12.17  1979.10.26\n최규하          58  1979.10.27  1980.08.16\n전두환         602  1980.06.05  1987.02.16\n노태우         601  1988.02.25  1992.10.05\n김영삼         728  1993.01.09  1998.01.23\n김대중         822  1998.02.25  2003.02.17\n노무현         780  2003.02.25  2008.01.28\n박근혜         493  2013.02.24  2016.10.26\n문재인        1389  2017.05.10  2022.03.30",
      "text/html": "<div>\n<style scoped>\n    .dataframe tbody tr th:only-of-type {\n        vertical-align: middle;\n    }\n\n    .dataframe tbody tr th {\n        vertical-align: top;\n    }\n\n    .dataframe thead th {\n        text-align: right;\n    }\n</style>\n<table border=\"1\" class=\"dataframe\">\n  <thead>\n    <tr style=\"text-align: right;\">\n      <th></th>\n      <th>size</th>\n      <th>min</th>\n      <th>max</th>\n    </tr>\n    <tr>\n      <th>president</th>\n      <th></th>\n      <th></th>\n      <th></th>\n    </tr>\n  </thead>\n  <tbody>\n    <tr>\n      <th>이명박</th>\n      <td>1027</td>\n      <td></td>\n      <td>2013.02.07</td>\n    </tr>\n    <tr>\n      <th>이승만</th>\n      <td>998</td>\n      <td>1948</td>\n      <td>1959.03.10</td>\n    </tr>\n    <tr>\n      <th>윤보선</th>\n      <td>3</td>\n      <td>1960.08.13</td>\n      <td>1960.09.15</td>\n    </tr>\n    <tr>\n      <th>박정희</th>\n      <td>1270</td>\n      <td>1963.12.17</td>\n      <td>1979.10.26</td>\n    </tr>\n    <tr>\n      <th>최규하</th>\n      <td>58</td>\n      <td>1979.10.27</td>\n      <td>1980.08.16</td>\n    </tr>\n    <tr>\n      <th>전두환</th>\n      <td>602</td>\n      <td>1980.06.05</td>\n      <td>1987.02.16</td>\n    </tr>\n    <tr>\n      <th>노태우</th>\n      <td>601</td>\n      <td>1988.02.25</td>\n      <td>1992.10.05</td>\n    </tr>\n    <tr>\n      <th>김영삼</th>\n      <td>728</td>\n      <td>1993.01.09</td>\n      <td>1998.01.23</td>\n    </tr>\n    <tr>\n      <th>김대중</th>\n      <td>822</td>\n      <td>1998.02.25</td>\n      <td>2003.02.17</td>\n    </tr>\n    <tr>\n      <th>노무현</th>\n      <td>780</td>\n      <td>2003.02.25</td>\n      <td>2008.01.28</td>\n    </tr>\n    <tr>\n      <th>박근혜</th>\n      <td>493</td>\n      <td>2013.02.24</td>\n      <td>2016.10.26</td>\n    </tr>\n    <tr>\n      <th>문재인</th>\n      <td>1389</td>\n      <td>2017.05.10</td>\n      <td>2022.03.30</td>\n    </tr>\n  </tbody>\n</table>\n</div>"
     },
     "execution_count": 16,
     "metadata": {},
     "output_type": "execute_result"
    }
   ],
   "source": [
    "df.groupby(\"president\")[\"date\"].agg([\"size\", \"min\", \"max\"]).sort_values(\"min\", ascending=True)"
   ],
   "metadata": {
    "collapsed": false,
    "ExecuteTime": {
     "end_time": "2023-09-06T05:01:54.851900Z",
     "start_time": "2023-09-06T05:01:54.843867Z"
    }
   },
   "id": "40ff571f2464473a"
  },
  {
   "cell_type": "code",
   "execution_count": 18,
   "outputs": [
    {
     "data": {
      "text/plain": "       division_number president  \\\n29880          1329848       이명박   \n29882          1329850       이명박   \n29886          1329854       이명박   \n29887          1329855       이명박   \n29888          1329856       이명박   \n...                ...       ...   \n30095          1330063       이명박   \n30096          1330064       이명박   \n30097          1330065       이명박   \n30705          1330673       이명박   \n30706          1330674       이명박   \n\n                                                  title date location kind  \\\n29880                                      제17대 대통령 취임사            국내  취임사   \n29882                               학군사관후보생 제46기 임관식 축사            국내  기념사   \n29886                                    제89주년 3·1절 기념사            국내  기념사   \n29887                                2008 KR/FE연습 격려 편지            국내  기념사   \n29888                             한국노동조합총연맹 창립 제62주년 축사            국내  기념사   \n...                                                 ...  ...      ...  ...   \n30095                                  공무원 설 격려 휴대폰 메시지            국내  기념사   \n30096                             주한 외국인 투자기업 신년 리셉션 연설            국내   기타   \n30097                              SBS 특집 '대통령과의 원탁 대화'            국내   기타   \n30705  제108차 라디오·인터넷 연설 - 도전하는 젊은이들이 있기에 대한민국의 미래는 밝습니다            국내   기타   \n30706      제109차 라디오·인터넷 연설 - 저는 '대한민국의 가장 행복한 일꾼'이었습니다            국내   기타   \n\n                                             speech_text  \n29880  존경하는 국민 여러분!\\n\\n\\n\\n700만 해외동포 여러분!\\n\\n이 자리에 참석...  \n29882  오늘 자랑스러운 소위 계급장을 어깨에 달고 일선으로 나아가는 여러분의 모습을 보니 ...  \n29886   존경하는 국민 여러분, 700만 해외동포와 독립유공자, 그리고 내외 귀빈 여러분!...  \n29887   친애하는 한·미 장병 여러분!  2008 KR/FE 연습에 최선을 다하고 있는 김...  \n29888   한국노동조합총연맹 창립 62주년을 진심으로 축하드립니다.  장석춘 위원장을 비롯한...  \n...                                                  ...  \n30095  안녕하십니까! 대통령 이명박입니다. 지난 한 해 수고 많이 하셨습니다. 금년 새해 ...  \n30096  외국 기업 CEO와 주한 외국 상공회의소 회장단 여러분, 그리고 함께하신 주한 외교...  \n30097  사회자(SBS 논설위원 김형민) 여러분 안녕하십니까? ‘대통령과의 원탁 대화 어떻게...  \n30705  안녕하십니까. 대통령입니다! 지난주 우리는 드넓은 우주를 향해 나로호를 쏘아 올리며...  \n30706  안녕하십니까, 대통령입니다! 오늘 제109차 방송을 마지막으로 라디오·인터넷 연설을...  \n\n[208 rows x 7 columns]",
      "text/html": "<div>\n<style scoped>\n    .dataframe tbody tr th:only-of-type {\n        vertical-align: middle;\n    }\n\n    .dataframe tbody tr th {\n        vertical-align: top;\n    }\n\n    .dataframe thead th {\n        text-align: right;\n    }\n</style>\n<table border=\"1\" class=\"dataframe\">\n  <thead>\n    <tr style=\"text-align: right;\">\n      <th></th>\n      <th>division_number</th>\n      <th>president</th>\n      <th>title</th>\n      <th>date</th>\n      <th>location</th>\n      <th>kind</th>\n      <th>speech_text</th>\n    </tr>\n  </thead>\n  <tbody>\n    <tr>\n      <th>29880</th>\n      <td>1329848</td>\n      <td>이명박</td>\n      <td>제17대 대통령 취임사</td>\n      <td></td>\n      <td>국내</td>\n      <td>취임사</td>\n      <td>존경하는 국민 여러분!\\n\\n\\n\\n700만 해외동포 여러분!\\n\\n이 자리에 참석...</td>\n    </tr>\n    <tr>\n      <th>29882</th>\n      <td>1329850</td>\n      <td>이명박</td>\n      <td>학군사관후보생 제46기 임관식 축사</td>\n      <td></td>\n      <td>국내</td>\n      <td>기념사</td>\n      <td>오늘 자랑스러운 소위 계급장을 어깨에 달고 일선으로 나아가는 여러분의 모습을 보니 ...</td>\n    </tr>\n    <tr>\n      <th>29886</th>\n      <td>1329854</td>\n      <td>이명박</td>\n      <td>제89주년 3·1절 기념사</td>\n      <td></td>\n      <td>국내</td>\n      <td>기념사</td>\n      <td>존경하는 국민 여러분, 700만 해외동포와 독립유공자, 그리고 내외 귀빈 여러분!...</td>\n    </tr>\n    <tr>\n      <th>29887</th>\n      <td>1329855</td>\n      <td>이명박</td>\n      <td>2008 KR/FE연습 격려 편지</td>\n      <td></td>\n      <td>국내</td>\n      <td>기념사</td>\n      <td>친애하는 한·미 장병 여러분!  2008 KR/FE 연습에 최선을 다하고 있는 김...</td>\n    </tr>\n    <tr>\n      <th>29888</th>\n      <td>1329856</td>\n      <td>이명박</td>\n      <td>한국노동조합총연맹 창립 제62주년 축사</td>\n      <td></td>\n      <td>국내</td>\n      <td>기념사</td>\n      <td>한국노동조합총연맹 창립 62주년을 진심으로 축하드립니다.  장석춘 위원장을 비롯한...</td>\n    </tr>\n    <tr>\n      <th>...</th>\n      <td>...</td>\n      <td>...</td>\n      <td>...</td>\n      <td>...</td>\n      <td>...</td>\n      <td>...</td>\n      <td>...</td>\n    </tr>\n    <tr>\n      <th>30095</th>\n      <td>1330063</td>\n      <td>이명박</td>\n      <td>공무원 설 격려 휴대폰 메시지</td>\n      <td></td>\n      <td>국내</td>\n      <td>기념사</td>\n      <td>안녕하십니까! 대통령 이명박입니다. 지난 한 해 수고 많이 하셨습니다. 금년 새해 ...</td>\n    </tr>\n    <tr>\n      <th>30096</th>\n      <td>1330064</td>\n      <td>이명박</td>\n      <td>주한 외국인 투자기업 신년 리셉션 연설</td>\n      <td></td>\n      <td>국내</td>\n      <td>기타</td>\n      <td>외국 기업 CEO와 주한 외국 상공회의소 회장단 여러분, 그리고 함께하신 주한 외교...</td>\n    </tr>\n    <tr>\n      <th>30097</th>\n      <td>1330065</td>\n      <td>이명박</td>\n      <td>SBS 특집 '대통령과의 원탁 대화'</td>\n      <td></td>\n      <td>국내</td>\n      <td>기타</td>\n      <td>사회자(SBS 논설위원 김형민) 여러분 안녕하십니까? ‘대통령과의 원탁 대화 어떻게...</td>\n    </tr>\n    <tr>\n      <th>30705</th>\n      <td>1330673</td>\n      <td>이명박</td>\n      <td>제108차 라디오·인터넷 연설 - 도전하는 젊은이들이 있기에 대한민국의 미래는 밝습니다</td>\n      <td></td>\n      <td>국내</td>\n      <td>기타</td>\n      <td>안녕하십니까. 대통령입니다! 지난주 우리는 드넓은 우주를 향해 나로호를 쏘아 올리며...</td>\n    </tr>\n    <tr>\n      <th>30706</th>\n      <td>1330674</td>\n      <td>이명박</td>\n      <td>제109차 라디오·인터넷 연설 - 저는 '대한민국의 가장 행복한 일꾼'이었습니다</td>\n      <td></td>\n      <td>국내</td>\n      <td>기타</td>\n      <td>안녕하십니까, 대통령입니다! 오늘 제109차 방송을 마지막으로 라디오·인터넷 연설을...</td>\n    </tr>\n  </tbody>\n</table>\n<p>208 rows × 7 columns</p>\n</div>"
     },
     "execution_count": 18,
     "metadata": {},
     "output_type": "execute_result"
    }
   ],
   "source": [
    "df[df['date'] == '']"
   ],
   "metadata": {
    "collapsed": false,
    "ExecuteTime": {
     "end_time": "2023-09-06T05:02:26.169641Z",
     "start_time": "2023-09-06T05:02:26.163495Z"
    }
   },
   "id": "3cc6ff3750f7f664"
  },
  {
   "cell_type": "code",
   "execution_count": 20,
   "outputs": [
    {
     "data": {
      "text/plain": "           size         min         max\npresident                              \n이명박         819  2008.02.25  2013.02.07",
      "text/html": "<div>\n<style scoped>\n    .dataframe tbody tr th:only-of-type {\n        vertical-align: middle;\n    }\n\n    .dataframe tbody tr th {\n        vertical-align: top;\n    }\n\n    .dataframe thead th {\n        text-align: right;\n    }\n</style>\n<table border=\"1\" class=\"dataframe\">\n  <thead>\n    <tr style=\"text-align: right;\">\n      <th></th>\n      <th>size</th>\n      <th>min</th>\n      <th>max</th>\n    </tr>\n    <tr>\n      <th>president</th>\n      <th></th>\n      <th></th>\n      <th></th>\n    </tr>\n  </thead>\n  <tbody>\n    <tr>\n      <th>이명박</th>\n      <td>819</td>\n      <td>2008.02.25</td>\n      <td>2013.02.07</td>\n    </tr>\n  </tbody>\n</table>\n</div>"
     },
     "execution_count": 20,
     "metadata": {},
     "output_type": "execute_result"
    }
   ],
   "source": [
    "df.query('president == \"이명박\" & date != \"\"').groupby(\"president\")[\"date\"].agg([\"size\", \"min\", \"max\"])"
   ],
   "metadata": {
    "collapsed": false,
    "ExecuteTime": {
     "end_time": "2023-09-06T05:10:56.182037Z",
     "start_time": "2023-09-06T05:10:56.171749Z"
    }
   },
   "id": "4563f881e439858a"
  },
  {
   "cell_type": "code",
   "execution_count": 21,
   "outputs": [
    {
     "data": {
      "text/plain": "           size   min   max\npresident                  \n이승만          72  1948  1958",
      "text/html": "<div>\n<style scoped>\n    .dataframe tbody tr th:only-of-type {\n        vertical-align: middle;\n    }\n\n    .dataframe tbody tr th {\n        vertical-align: top;\n    }\n\n    .dataframe thead th {\n        text-align: right;\n    }\n</style>\n<table border=\"1\" class=\"dataframe\">\n  <thead>\n    <tr style=\"text-align: right;\">\n      <th></th>\n      <th>size</th>\n      <th>min</th>\n      <th>max</th>\n    </tr>\n    <tr>\n      <th>president</th>\n      <th></th>\n      <th></th>\n      <th></th>\n    </tr>\n  </thead>\n  <tbody>\n    <tr>\n      <th>이승만</th>\n      <td>72</td>\n      <td>1948</td>\n      <td>1958</td>\n    </tr>\n  </tbody>\n</table>\n</div>"
     },
     "execution_count": 21,
     "metadata": {},
     "output_type": "execute_result"
    }
   ],
   "source": [
    "df.query('president == \"이승만\" & date.str.len() < 5').groupby(\"president\")[\"date\"].agg([\"size\", \"min\", \"max\"])\n"
   ],
   "metadata": {
    "collapsed": false,
    "ExecuteTime": {
     "end_time": "2023-09-06T05:15:48.789848Z",
     "start_time": "2023-09-06T05:15:48.775064Z"
    }
   },
   "id": "dd23cc1be176905f"
  },
  {
   "cell_type": "code",
   "execution_count": 22,
   "outputs": [
    {
     "data": {
      "text/plain": "           size         min         max\npresident                              \n이승만         926  1948.07.24  1959.03.10",
      "text/html": "<div>\n<style scoped>\n    .dataframe tbody tr th:only-of-type {\n        vertical-align: middle;\n    }\n\n    .dataframe tbody tr th {\n        vertical-align: top;\n    }\n\n    .dataframe thead th {\n        text-align: right;\n    }\n</style>\n<table border=\"1\" class=\"dataframe\">\n  <thead>\n    <tr style=\"text-align: right;\">\n      <th></th>\n      <th>size</th>\n      <th>min</th>\n      <th>max</th>\n    </tr>\n    <tr>\n      <th>president</th>\n      <th></th>\n      <th></th>\n      <th></th>\n    </tr>\n  </thead>\n  <tbody>\n    <tr>\n      <th>이승만</th>\n      <td>926</td>\n      <td>1948.07.24</td>\n      <td>1959.03.10</td>\n    </tr>\n  </tbody>\n</table>\n</div>"
     },
     "execution_count": 22,
     "metadata": {},
     "output_type": "execute_result"
    }
   ],
   "source": [
    "df.query('president == \"이승만\" & date.str.len() > 5').groupby(\"president\")[\"date\"].agg([\"size\", \"min\", \"max\"])\n"
   ],
   "metadata": {
    "collapsed": false,
    "ExecuteTime": {
     "end_time": "2023-09-06T05:16:23.002460Z",
     "start_time": "2023-09-06T05:16:22.991240Z"
    }
   },
   "id": "f992bf3d426a6f6e"
  },
  {
   "cell_type": "code",
   "execution_count": 23,
   "outputs": [],
   "source": [
    "# 판다스 dataframe df 의 speech_text 컬럼에는 연설문이 들어가 있음. \n",
    "# 모든 컬럼의 연설문의 텍스트를 공백으로 분리해서 단어별로 group by count 를 하고 싶어 어떻게 해야 할까?"
   ],
   "metadata": {
    "collapsed": false,
    "ExecuteTime": {
     "end_time": "2023-09-06T05:36:24.129539Z",
     "start_time": "2023-09-06T05:36:24.124703Z"
    }
   },
   "id": "b80fb665a17025ee"
  },
  {
   "cell_type": "code",
   "execution_count": 28,
   "outputs": [
    {
     "data": {
      "text/plain": "speech_text\n우리        41868\n수         41748\n것입니다.     39525\n있습니다.     34215\n있는        30176\n          ...  \n휴일이           1\n수천리           1\n수훈,           1\n학술원,          1\n복원과협력의        1\nName: count, Length: 531821, dtype: int64"
     },
     "execution_count": 28,
     "metadata": {},
     "output_type": "execute_result"
    }
   ],
   "source": [
    "df['speech_text'].str.split().explode().value_counts()"
   ],
   "metadata": {
    "collapsed": false,
    "ExecuteTime": {
     "end_time": "2023-09-06T05:39:52.495247Z",
     "start_time": "2023-09-06T05:39:51.337366Z"
    }
   },
   "id": "e157e841df0f3369"
  },
  {
   "cell_type": "code",
   "execution_count": 31,
   "outputs": [
    {
     "data": {
      "text/plain": "104258"
     },
     "execution_count": 31,
     "metadata": {},
     "output_type": "execute_result"
    }
   ],
   "source": [
    "df['speech_text'].str.findall('우리').str.len().sum()"
   ],
   "metadata": {
    "collapsed": false,
    "ExecuteTime": {
     "end_time": "2023-09-06T05:45:16.744937Z",
     "start_time": "2023-09-06T05:45:16.741060Z"
    }
   },
   "id": "c94451e458e7ac2b"
  },
  {
   "cell_type": "code",
   "execution_count": 35,
   "outputs": [
    {
     "data": {
      "text/plain": "president\n박근혜    1\n시진핑    4\n트럼프    1\nName: count_우리, dtype: int64"
     },
     "execution_count": 35,
     "metadata": {},
     "output_type": "execute_result"
    }
   ],
   "source": [
    "df = pd.DataFrame({\n",
    "    'speech_text': [\n",
    "        '우리나라 국민 여러분, 안녕하십니까?',\n",
    "        '우리 미국 국민 여러분, 안녕하십니까?',\n",
    "        '우리 우리에의한 우리 만의 우리리리 중국 국민 여러분, 안녕하십니까?',\n",
    "    ],\n",
    "    'president': ['박근혜', '트럼프', '시진핑']\n",
    "})\n",
    "\n",
    "# '우리'의 개수 계산\n",
    "df['count_우리'] = df['speech_text'].str.count('우리')\n",
    "\n",
    "# president 별로 그룹화\n",
    "df = df.groupby('president')\n",
    "\n",
    "# '우리'의 개수 합계\n",
    "df['count_우리'].sum()"
   ],
   "metadata": {
    "collapsed": false,
    "ExecuteTime": {
     "end_time": "2023-09-06T05:51:26.911756Z",
     "start_time": "2023-09-06T05:51:26.905684Z"
    }
   },
   "id": "100cb053beac7667"
  },
  {
   "cell_type": "code",
   "execution_count": 38,
   "outputs": [
    {
     "data": {
      "text/plain": "president\n김대중     684\n김영삼     646\n노무현     612\n노태우    1445\n문재인     566\n박근혜     250\n박정희    2145\n윤보선       6\n이명박     610\n이승만    1902\n전두환     552\n최규하      28\nName: count_keyword, dtype: int64"
     },
     "execution_count": 38,
     "metadata": {},
     "output_type": "execute_result"
    }
   ],
   "source": [
    "keyword = '자유'\n",
    "\n",
    "df = pd.read_parquet(\"../src/president_speech/db/parquet/president_speech_ko.parquet\")\n",
    "df['count_keyword'] = df['speech_text'].str.count(keyword)\n",
    "df = df.groupby('president')\n",
    "df['count_keyword'].sum()\n"
   ],
   "metadata": {
    "collapsed": false,
    "ExecuteTime": {
     "end_time": "2023-09-06T06:15:00.650296Z",
     "start_time": "2023-09-06T06:15:00.411496Z"
    }
   },
   "id": "239bab44f46208e0"
  },
  {
   "cell_type": "code",
   "execution_count": 41,
   "outputs": [
    {
     "data": {
      "text/plain": "9446"
     },
     "execution_count": 41,
     "metadata": {},
     "output_type": "execute_result"
    }
   ],
   "source": [
    "df = pd.read_parquet(\"../src/president_speech/db/parquet/president_speech_ko.parquet\")\n",
    "df['speech_text'].str.findall(keyword).str.len().sum()"
   ],
   "metadata": {
    "collapsed": false,
    "ExecuteTime": {
     "end_time": "2023-09-06T06:18:42.705835Z",
     "start_time": "2023-09-06T06:18:42.466786Z"
    }
   },
   "id": "822e7b51af571481"
  },
  {
   "cell_type": "code",
   "execution_count": 44,
   "outputs": [
    {
     "data": {
      "text/plain": "size    8771\nName: speech_text, dtype: int64"
     },
     "execution_count": 44,
     "metadata": {},
     "output_type": "execute_result"
    }
   ],
   "source": [
    "df = pd.read_parquet(\"../src/president_speech/db/parquet/president_speech_ko.parquet\")\n",
    "df['speech_text'].str.count(keyword).agg([\"size\"])"
   ],
   "metadata": {
    "collapsed": false,
    "ExecuteTime": {
     "end_time": "2023-09-06T06:24:13.176068Z",
     "start_time": "2023-09-06T06:24:12.952269Z"
    }
   },
   "id": "b0c2bce051a21e68"
  },
  {
   "cell_type": "code",
   "execution_count": 54,
   "outputs": [
    {
     "data": {
      "text/plain": "president\n김대중     7764612\n김영삼     6876688\n노무현     7367880\n노태우     5677046\n문재인    13120494\n박근혜     4656878\n박정희    11996420\n윤보선       28338\n이명박     9701042\n이승만     9427108\n전두환     5686492\n최규하      547868\nName: count_keyword, dtype: int64"
     },
     "execution_count": 54,
     "metadata": {},
     "output_type": "execute_result"
    }
   ],
   "source": [
    "keyword = '자유'\n",
    "\n",
    "df = pd.read_parquet(\"../src/president_speech/db/parquet/president_speech_ko.parquet\")\n",
    "df['count_keyword'] = df['speech_text'].str.findall(keyword).str.len().sum()\n",
    "df = df.groupby('president')\n",
    "df['count_keyword'].sum()"
   ],
   "metadata": {
    "collapsed": false,
    "ExecuteTime": {
     "end_time": "2023-09-06T06:27:33.387055Z",
     "start_time": "2023-09-06T06:27:33.173107Z"
    }
   },
   "id": "dab7c8decf051add"
  },
  {
   "cell_type": "code",
   "execution_count": 56,
   "outputs": [
    {
     "data": {
      "text/plain": "president\n김대중     684\n김영삼     646\n노무현     612\n노태우    1445\n문재인     566\n박근혜     250\n박정희    2145\n윤보선       6\n이명박     610\n이승만    1902\n전두환     552\n최규하      28\nName: count_keyword, dtype: int64"
     },
     "execution_count": 56,
     "metadata": {},
     "output_type": "execute_result"
    }
   ],
   "source": [
    "keyword = '자유'\n",
    "\n",
    "df = pd.read_parquet(\"../src/president_speech/db/parquet/president_speech_ko.parquet\")\n",
    "df['count_keyword'] = df['speech_text'].str.findall(keyword).str.len()\n",
    "df = df.groupby('president')\n",
    "df['count_keyword'].sum()"
   ],
   "metadata": {
    "collapsed": false,
    "ExecuteTime": {
     "end_time": "2023-09-06T06:31:45.456081Z",
     "start_time": "2023-09-06T06:31:45.226642Z"
    }
   },
   "id": "dd4c6e4c13677e4d"
  },
  {
   "cell_type": "code",
   "execution_count": 57,
   "outputs": [
    {
     "data": {
      "text/plain": "president\n김대중     14\n김영삼      1\n노무현      0\n노태우     46\n문재인      3\n박근혜      1\n박정희    154\n윤보선      0\n이명박      0\n이승만    605\n전두환      1\n최규하      0\nName: count_keyword, dtype: int64"
     },
     "execution_count": 57,
     "metadata": {},
     "output_type": "execute_result"
    }
   ],
   "source": [
    "keyword = '공산당'\n",
    "\n",
    "df = pd.read_parquet(\"../src/president_speech/db/parquet/president_speech_ko.parquet\")\n",
    "df['count_keyword'] = df['speech_text'].str.findall(keyword).str.len()\n",
    "df = df.groupby('president')\n",
    "df['count_keyword'].sum()"
   ],
   "metadata": {
    "collapsed": false,
    "ExecuteTime": {
     "end_time": "2023-09-06T06:31:55.747142Z",
     "start_time": "2023-09-06T06:31:55.518553Z"
    }
   },
   "id": "e3bc0d07a2bf578a"
  },
  {
   "cell_type": "code",
   "execution_count": 58,
   "outputs": [
    {
     "data": {
      "text/plain": "president\n김대중     2\n김영삼    21\n노무현     2\n노태우    81\n문재인     0\n박근혜     0\n박정희    54\n윤보선     0\n이명박     1\n이승만     5\n전두환    56\n최규하     0\nName: count_keyword, dtype: int64"
     },
     "execution_count": 58,
     "metadata": {},
     "output_type": "execute_result"
    }
   ],
   "source": [
    "keyword = '김일성'\n",
    "\n",
    "df = pd.read_parquet(\"../src/president_speech/db/parquet/president_speech_ko.parquet\")\n",
    "df['count_keyword'] = df['speech_text'].str.findall(keyword).str.len()\n",
    "df = df.groupby('president')\n",
    "df['count_keyword'].sum()"
   ],
   "metadata": {
    "collapsed": false,
    "ExecuteTime": {
     "end_time": "2023-09-06T06:32:30.083606Z",
     "start_time": "2023-09-06T06:32:29.872124Z"
    }
   },
   "id": "3ededdd292dd5eb1"
  },
  {
   "cell_type": "code",
   "execution_count": 59,
   "outputs": [
    {
     "data": {
      "text/plain": "president\n김대중    701\n김영삼    240\n노무현    338\n노태우    693\n문재인    372\n박근혜    243\n박정희     93\n윤보선      0\n이명박    586\n이승만    270\n전두환     24\n최규하      0\nName: count_keyword, dtype: int64"
     },
     "execution_count": 59,
     "metadata": {},
     "output_type": "execute_result"
    }
   ],
   "source": [
    "keyword = '중국'\n",
    "\n",
    "df = pd.read_parquet(\"../src/president_speech/db/parquet/president_speech_ko.parquet\")\n",
    "df['count_keyword'] = df['speech_text'].str.findall(keyword).str.len()\n",
    "df = df.groupby('president')\n",
    "df['count_keyword'].sum()"
   ],
   "metadata": {
    "collapsed": false,
    "ExecuteTime": {
     "end_time": "2023-09-06T06:32:47.225690Z",
     "start_time": "2023-09-06T06:32:47.010662Z"
    }
   },
   "id": "83be610839396eaf"
  },
  {
   "cell_type": "code",
   "execution_count": 60,
   "outputs": [
    {
     "data": {
      "text/plain": "president\n김대중    1632\n김영삼    1418\n노무현     479\n노태우    2786\n문재인     711\n박근혜     779\n박정희    1364\n윤보선       0\n이명박     791\n이승만     113\n전두환    1558\n최규하     125\nName: count_keyword, dtype: int64"
     },
     "execution_count": 60,
     "metadata": {},
     "output_type": "execute_result"
    }
   ],
   "source": [
    "keyword = '북한'\n",
    "\n",
    "df = pd.read_parquet(\"../src/president_speech/db/parquet/president_speech_ko.parquet\")\n",
    "df['count_keyword'] = df['speech_text'].str.findall(keyword).str.len()\n",
    "df = df.groupby('president')\n",
    "df['count_keyword'].sum()"
   ],
   "metadata": {
    "collapsed": false,
    "ExecuteTime": {
     "end_time": "2023-09-06T06:33:07.380981Z",
     "start_time": "2023-09-06T06:33:07.163952Z"
    }
   },
   "id": "b37628ed4ede43c8"
  },
  {
   "cell_type": "code",
   "execution_count": 107,
   "outputs": [
    {
     "data": {
      "text/plain": "president\n김대중    0\n김영삼    0\n노무현    0\n노태우    4\n문재인    0\n박근혜    2\n박정희    6\n윤보선    0\n이명박    0\n이승만    0\n전두환    7\n최규하    0\nName: count_keyword, dtype: int64"
     },
     "execution_count": 107,
     "metadata": {},
     "output_type": "execute_result"
    }
   ],
   "source": [
    "keyword = '핵전쟁'\n",
    "\n",
    "df = pd.read_parquet(\"../src/president_speech/db/parquet/president_speech_ko.parquet\")\n",
    "df['count_keyword'] = df['speech_text'].str.findall(keyword).str.len()\n",
    "df = df.groupby('president')\n",
    "df['count_keyword'].sum()"
   ],
   "metadata": {
    "collapsed": false,
    "ExecuteTime": {
     "end_time": "2023-09-06T07:47:49.796329Z",
     "start_time": "2023-09-06T07:47:49.434927Z"
    }
   },
   "id": "9af3c7047fea39e3"
  },
  {
   "cell_type": "code",
   "execution_count": 67,
   "outputs": [
    {
     "data": {
      "text/plain": "president\n전두환    7\n박정희    6\n노태우    4\n박근혜    2\n김대중    0\n김영삼    0\n노무현    0\n문재인    0\n윤보선    0\n이명박    0\n이승만    0\n최규하    0\nName: count_keyword, dtype: int64"
     },
     "execution_count": 67,
     "metadata": {},
     "output_type": "execute_result"
    }
   ],
   "source": [
    "df['count_keyword'].sum().sort_values(ascending=False)"
   ],
   "metadata": {
    "collapsed": false,
    "ExecuteTime": {
     "end_time": "2023-09-06T06:40:59.370011Z",
     "start_time": "2023-09-06T06:40:59.361799Z"
    }
   },
   "id": "3eaeb35746f05cab"
  },
  {
   "cell_type": "code",
   "execution_count": 108,
   "outputs": [
    {
     "name": "stdout",
     "output_type": "stream",
     "text": [
      "|    | president   |   mention |\n",
      "|---:|:------------|----------:|\n",
      "|  0 | 전두환      |         7 |\n",
      "|  1 | 박정희      |         6 |\n",
      "|  2 | 노태우      |         4 |\n",
      "|  3 | 박근혜      |         2 |\n",
      "|  4 | 김대중      |         0 |\n",
      "|  5 | 김영삼      |         0 |\n",
      "|  6 | 노무현      |         0 |\n",
      "|  7 | 문재인      |         0 |\n",
      "|  8 | 윤보선      |         0 |\n",
      "|  9 | 이명박      |         0 |\n",
      "| 10 | 이승만      |         0 |\n",
      "| 11 | 최규하      |         0 |\n"
     ]
    }
   ],
   "source": [
    "import pandas as pd\n",
    "from tabulate import tabulate\n",
    "\n",
    "keyword = '핵전쟁'\n",
    "\n",
    "df = pd.read_parquet(\"../src/president_speech/db/parquet/president_speech_ko.parquet\")\n",
    "df['count_keyword'] = df['speech_text'].str.findall(keyword).str.len()\n",
    "df = df.groupby('president')['count_keyword'].sum().sort_values(ascending=False).to_frame().reset_index()\n",
    "\n",
    "print(tabulate(df, headers=['president', 'mention'], tablefmt='pipe'))\n"
   ],
   "metadata": {
    "collapsed": false,
    "ExecuteTime": {
     "end_time": "2023-09-06T07:48:03.412169Z",
     "start_time": "2023-09-06T07:48:03.072251Z"
    }
   },
   "id": "48832ad0992f72ce"
  },
  {
   "cell_type": "code",
   "execution_count": 106,
   "outputs": [
    {
     "name": "stdout",
     "output_type": "stream",
     "text": [
      "    president      mention\n",
      "--  -----------  ---------\n",
      " 0  전두환               7\n",
      " 1  박정희               6\n",
      " 2  노태우               4\n",
      " 3  박근혜               2\n",
      " 4  김대중               0\n",
      " 5  김영삼               0\n",
      " 6  노무현               0\n",
      " 7  문재인               0\n",
      " 8  윤보선               0\n",
      " 9  이명박               0\n",
      "10  이승만               0\n",
      "11  최규하               0\n"
     ]
    }
   ],
   "source": [
    "print(tabulate(df, headers=['president', 'mention'], tablefmt='pipesep'))"
   ],
   "metadata": {
    "collapsed": false,
    "ExecuteTime": {
     "end_time": "2023-09-06T07:44:01.813798Z",
     "start_time": "2023-09-06T07:44:01.804791Z"
    }
   },
   "id": "7103fb7f6ae7554d"
  },
  {
   "cell_type": "code",
   "execution_count": 117,
   "outputs": [
    {
     "name": "stdout",
     "output_type": "stream",
     "text": [
      "문재인  [954]  ****************************************\n",
      "이승만  [430]  ******************\n",
      "박정희  [361]  ****************\n",
      "이명박  [176]  ********\n",
      "김대중  [171]  ********\n",
      "전두환  [169]  ********\n",
      "노무현  [167]  *******\n",
      "노태우  [131]  ******\n",
      "김영삼  [114]  *****\n",
      "박근혜  [ 71]  ***\n",
      "최규하  [  4]  *\n",
      "윤보선  [  0]\n"
     ]
    }
   ],
   "source": [
    "import pandas as pd\n",
    "import termplotlib as tpl\n",
    "\n",
    "keyword = '독립'\n",
    "\n",
    "df = pd.read_parquet(\"../src/president_speech/db/parquet/president_speech_ko.parquet\")\n",
    "df['count_keyword'] = df['speech_text'].str.findall(keyword).str.len()\n",
    "df = df.groupby('president')['count_keyword'].sum().sort_values(ascending=False).to_frame().reset_index()\n",
    "\n",
    "# 0번 인덱스 열 제거\n",
    "# df = df.iloc[:, 1:]\n",
    "\n",
    "# 막대 그래프 생성\n",
    "fig = tpl.figure()\n",
    "fig.barh(df['count_keyword'], df['president'], force_ascii=True)\n",
    "\n",
    "# 출력\n",
    "fig.show()"
   ],
   "metadata": {
    "collapsed": false,
    "ExecuteTime": {
     "end_time": "2023-09-06T07:59:53.220391Z",
     "start_time": "2023-09-06T07:59:53.034128Z"
    }
   },
   "id": "58e80718d9a11d22"
  },
  {
   "cell_type": "code",
   "execution_count": 113,
   "outputs": [
    {
     "data": {
      "text/plain": "   president  count_keyword\n0        전두환              7\n1        박정희              6\n2        노태우              4\n3        박근혜              2\n4        김대중              0\n5        김영삼              0\n6        노무현              0\n7        문재인              0\n8        윤보선              0\n9        이명박              0\n10       이승만              0\n11       최규하              0",
      "text/html": "<div>\n<style scoped>\n    .dataframe tbody tr th:only-of-type {\n        vertical-align: middle;\n    }\n\n    .dataframe tbody tr th {\n        vertical-align: top;\n    }\n\n    .dataframe thead th {\n        text-align: right;\n    }\n</style>\n<table border=\"1\" class=\"dataframe\">\n  <thead>\n    <tr style=\"text-align: right;\">\n      <th></th>\n      <th>president</th>\n      <th>count_keyword</th>\n    </tr>\n  </thead>\n  <tbody>\n    <tr>\n      <th>0</th>\n      <td>전두환</td>\n      <td>7</td>\n    </tr>\n    <tr>\n      <th>1</th>\n      <td>박정희</td>\n      <td>6</td>\n    </tr>\n    <tr>\n      <th>2</th>\n      <td>노태우</td>\n      <td>4</td>\n    </tr>\n    <tr>\n      <th>3</th>\n      <td>박근혜</td>\n      <td>2</td>\n    </tr>\n    <tr>\n      <th>4</th>\n      <td>김대중</td>\n      <td>0</td>\n    </tr>\n    <tr>\n      <th>5</th>\n      <td>김영삼</td>\n      <td>0</td>\n    </tr>\n    <tr>\n      <th>6</th>\n      <td>노무현</td>\n      <td>0</td>\n    </tr>\n    <tr>\n      <th>7</th>\n      <td>문재인</td>\n      <td>0</td>\n    </tr>\n    <tr>\n      <th>8</th>\n      <td>윤보선</td>\n      <td>0</td>\n    </tr>\n    <tr>\n      <th>9</th>\n      <td>이명박</td>\n      <td>0</td>\n    </tr>\n    <tr>\n      <th>10</th>\n      <td>이승만</td>\n      <td>0</td>\n    </tr>\n    <tr>\n      <th>11</th>\n      <td>최규하</td>\n      <td>0</td>\n    </tr>\n  </tbody>\n</table>\n</div>"
     },
     "execution_count": 113,
     "metadata": {},
     "output_type": "execute_result"
    }
   ],
   "source": [
    "df"
   ],
   "metadata": {
    "collapsed": false,
    "ExecuteTime": {
     "end_time": "2023-09-06T07:57:19.747942Z",
     "start_time": "2023-09-06T07:57:19.744758Z"
    }
   },
   "id": "4f3bd61096ad5121"
  },
  {
   "cell_type": "code",
   "execution_count": 110,
   "outputs": [
    {
     "name": "stdout",
     "output_type": "stream",
     "text": [
      "Cats   [ 3]  ************\n",
      "Dogs   [10]  ****************************************\n",
      "Cows   [ 5]  ********************\n",
      "Geese  [ 2]  ********\n"
     ]
    }
   ],
   "source": [
    "import termplotlib as tpl\n",
    "\n",
    "fig = tpl.figure()\n",
    "fig.barh([3, 10, 5, 2], [\"Cats\", \"Dogs\", \"Cows\", \"Geese\"], force_ascii=True)\n",
    "fig.show()"
   ],
   "metadata": {
    "collapsed": false,
    "ExecuteTime": {
     "end_time": "2023-09-06T07:54:50.304338Z",
     "start_time": "2023-09-06T07:54:50.278101Z"
    }
   },
   "id": "5b8426cc7fddd6bf"
  },
  {
   "cell_type": "code",
   "execution_count": 123,
   "outputs": [
    {
     "name": "stdout",
     "output_type": "stream",
     "text": [
      "노무현  [17]  ****************************************\n",
      "이승만  [ 9]  **********************\n",
      "문재인  [ 5]  ************\n",
      "김대중  [ 1]  ***\n",
      "노태우  [ 1]  ***\n",
      "김영삼  [ 0]\n",
      "박근혜  [ 0]\n",
      "박정희  [ 0]\n",
      "윤보선  [ 0]\n",
      "이명박  [ 0]\n",
      "전두환  [ 0]\n",
      "최규하  [ 0]\n"
     ]
    }
   ],
   "source": [
    "import pandas as pd\n",
    "import termplotlib as tpl\n",
    "\n",
    "keyword = '탄핵'\n",
    "\n",
    "df = pd.read_parquet(\"../src/president_speech/db/parquet/president_speech_ko.parquet\")\n",
    "df['count_keyword'] = df['speech_text'].str.findall(keyword).str.len()\n",
    "df = df.groupby('president')['count_keyword'].sum().sort_values(ascending=False).to_frame().reset_index()\n",
    "\n",
    "# 0번 인덱스 열 제거\n",
    "# df = df.iloc[:, 1:]\n",
    "\n",
    "# 막대 그래프 생성\n",
    "fig = tpl.figure()\n",
    "fig.barh(df['count_keyword'], df['president'], force_ascii=True)\n",
    "\n",
    "# 출력\n",
    "fig.show()"
   ],
   "metadata": {
    "collapsed": false,
    "ExecuteTime": {
     "end_time": "2023-09-06T08:01:51.939284Z",
     "start_time": "2023-09-06T08:01:51.755663Z"
    }
   },
   "id": "a918850d55febb21"
  },
  {
   "cell_type": "code",
   "execution_count": null,
   "outputs": [],
   "source": [],
   "metadata": {
    "collapsed": false
   },
   "id": "4bd07135b9fe8f1f"
  }
 ],
 "metadata": {
  "kernelspec": {
   "display_name": "Python 3",
   "language": "python",
   "name": "python3"
  },
  "language_info": {
   "codemirror_mode": {
    "name": "ipython",
    "version": 2
   },
   "file_extension": ".py",
   "mimetype": "text/x-python",
   "name": "python",
   "nbconvert_exporter": "python",
   "pygments_lexer": "ipython2",
   "version": "2.7.6"
  }
 },
 "nbformat": 4,
 "nbformat_minor": 5
}
