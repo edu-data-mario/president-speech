{
 "cells": [
  {
   "cell_type": "code",
   "execution_count": 31,
   "id": "57aeffed-883a-4af5-ab72-f1dfb8712798",
   "metadata": {},
   "outputs": [
    {
     "ename": "ImportError",
     "evalue": "cannot import name 'get_parquet_tmp_path' from 'president_speech.db.parquet_interpreter' (/home/tom/code/edu/president-speech/src/president_speech/db/parquet_interpreter.py)",
     "output_type": "error",
     "traceback": [
      "\u001b[0;31m---------------------------------------------------------------------------\u001b[0m",
      "\u001b[0;31mImportError\u001b[0m                               Traceback (most recent call last)",
      "Cell \u001b[0;32mIn[31], line 1\u001b[0m\n\u001b[0;32m----> 1\u001b[0m \u001b[38;5;28;01mfrom\u001b[39;00m \u001b[38;5;21;01mpresident_speech\u001b[39;00m\u001b[38;5;21;01m.\u001b[39;00m\u001b[38;5;21;01mdb\u001b[39;00m\u001b[38;5;21;01m.\u001b[39;00m\u001b[38;5;21;01mparquet_interpreter\u001b[39;00m \u001b[38;5;28;01mimport\u001b[39;00m get_parquet_full_path, read_parquet, get_parquet_tmp_path\n",
      "\u001b[0;31mImportError\u001b[0m: cannot import name 'get_parquet_tmp_path' from 'president_speech.db.parquet_interpreter' (/home/tom/code/edu/president-speech/src/president_speech/db/parquet_interpreter.py)"
     ]
    }
   ],
   "source": [
    "from president_speech.db.parquet_interpreter import get_parquet_full_path, read_parquet, get_parquet_tmp_path"
   ]
  },
  {
   "cell_type": "code",
   "execution_count": 2,
   "id": "3c4ce21b-3116-41ab-b3cd-efc527671d6d",
   "metadata": {},
   "outputs": [],
   "source": [
    "path = get_parquet_full_path()"
   ]
  },
  {
   "cell_type": "code",
   "execution_count": 3,
   "id": "fb406a12-2fa3-4f60-a6bd-f98922c03c37",
   "metadata": {},
   "outputs": [
    {
     "data": {
      "text/plain": [
       "'/home/tom/code/edu/president-speech/src/president_speech/db/parquet/president_speech_ko.parquet'"
      ]
     },
     "execution_count": 3,
     "metadata": {},
     "output_type": "execute_result"
    }
   ],
   "source": [
    "path"
   ]
  },
  {
   "cell_type": "code",
   "execution_count": 7,
   "id": "2cb335c3-8c86-43e3-97c8-057182990a4a",
   "metadata": {},
   "outputs": [],
   "source": [
    " import os\n",
    "os.environ[\"MODIN_ENGINE\"] = \"dask\"  # Modin will use Dask\n",
    "import modin.pandas as pd"
   ]
  },
  {
   "cell_type": "code",
   "execution_count": 8,
   "id": "38604bac-4434-4efa-9c56-c5cda6699655",
   "metadata": {},
   "outputs": [],
   "source": [
    "df = pd.read_parquet(path)"
   ]
  },
  {
   "cell_type": "code",
   "execution_count": 9,
   "id": "235fb89b-0730-46e0-ace9-da06360715a3",
   "metadata": {},
   "outputs": [
    {
     "data": {
      "text/html": [
       "<div>\n",
       "<style scoped>\n",
       "    .dataframe tbody tr th:only-of-type {\n",
       "        vertical-align: middle;\n",
       "    }\n",
       "\n",
       "    .dataframe tbody tr th {\n",
       "        vertical-align: top;\n",
       "    }\n",
       "\n",
       "    .dataframe thead th {\n",
       "        text-align: right;\n",
       "    }\n",
       "</style>\n",
       "<table border=\"1\" class=\"dataframe\">\n",
       "  <thead>\n",
       "    <tr style=\"text-align: right;\">\n",
       "      <th></th>\n",
       "      <th>division_number</th>\n",
       "      <th>president</th>\n",
       "      <th>title</th>\n",
       "      <th>date</th>\n",
       "      <th>location</th>\n",
       "      <th>kind</th>\n",
       "      <th>speech_text</th>\n",
       "    </tr>\n",
       "  </thead>\n",
       "  <tbody>\n",
       "    <tr>\n",
       "      <th>5368</th>\n",
       "      <td>1305368</td>\n",
       "      <td>박정희</td>\n",
       "      <td>제5대 대통령 취임식 대통령 취임사</td>\n",
       "      <td>1963.12.17</td>\n",
       "      <td>국내</td>\n",
       "      <td>취임사</td>\n",
       "      <td>\\n\\n\\n단군성조가 천혜의 이 강토 위에 국기를 닦으신지 반만년, 연면히 이어온 ...</td>\n",
       "    </tr>\n",
       "    <tr>\n",
       "      <th>5369</th>\n",
       "      <td>1305369</td>\n",
       "      <td>박정희</td>\n",
       "      <td>국회 개회식 치사</td>\n",
       "      <td>1963.12.17</td>\n",
       "      <td>국내</td>\n",
       "      <td>기념사</td>\n",
       "      <td>존경하는 국회의장, 의원제위 그리고 내외귀빈 여러분! 오늘 이 뜻깊은 제3공화국의...</td>\n",
       "    </tr>\n",
       "    <tr>\n",
       "      <th>5370</th>\n",
       "      <td>1305370</td>\n",
       "      <td>박정희</td>\n",
       "      <td>신년 메시지</td>\n",
       "      <td>1964.01.01</td>\n",
       "      <td>국내</td>\n",
       "      <td>신년사</td>\n",
       "      <td>친애하는 국내외의 동포 여러분! 혁명의 고된 시련을 겪고 민정이양으로 매듭을 지은...</td>\n",
       "    </tr>\n",
       "    <tr>\n",
       "      <th>5371</th>\n",
       "      <td>1305371</td>\n",
       "      <td>박정희</td>\n",
       "      <td>신년 시무식에 즈음한 담화문</td>\n",
       "      <td>1964</td>\n",
       "      <td>국내</td>\n",
       "      <td>성명/담화문</td>\n",
       "      <td>친애하는 전국의 공무원 여러분! 민족 역사 위에 격동과 시련의 해로 길이 기록될 계...</td>\n",
       "    </tr>\n",
       "    <tr>\n",
       "      <th>5372</th>\n",
       "      <td>1305372</td>\n",
       "      <td>박정희</td>\n",
       "      <td>고급공무원에게 보내는 서신</td>\n",
       "      <td>1964.01.04</td>\n",
       "      <td>국내</td>\n",
       "      <td>기념사</td>\n",
       "      <td>청 감갑진년의 새아침을 맞이하여 귀하와 귀하의 가정에 만복이 깃들기를 빌며, 새해에...</td>\n",
       "    </tr>\n",
       "    <tr>\n",
       "      <th>...</th>\n",
       "      <td>...</td>\n",
       "      <td>...</td>\n",
       "      <td>...</td>\n",
       "      <td>...</td>\n",
       "      <td>...</td>\n",
       "      <td>...</td>\n",
       "      <td>...</td>\n",
       "    </tr>\n",
       "    <tr>\n",
       "      <th>102587</th>\n",
       "      <td>1401987</td>\n",
       "      <td>문재인</td>\n",
       "      <td>수석·보좌관회의</td>\n",
       "      <td>2021.04.05</td>\n",
       "      <td>국내</td>\n",
       "      <td>회의</td>\n",
       "      <td>우리가 코로나19 이전으로 얼마나 빨리 돌아갈 수 있는지 여부는 오로지 방역과 백신...</td>\n",
       "    </tr>\n",
       "    <tr>\n",
       "      <th>102588</th>\n",
       "      <td>1401988</td>\n",
       "      <td>문재인</td>\n",
       "      <td>제16회 국무회의</td>\n",
       "      <td>2021.04.13</td>\n",
       "      <td>국내</td>\n",
       "      <td>회의</td>\n",
       "      <td>정부는 국민께 무한책임을 진다는 자세로 흔들림 없이 국정에 임해야 합니다.방역도, ...</td>\n",
       "    </tr>\n",
       "    <tr>\n",
       "      <th>102589</th>\n",
       "      <td>1401989</td>\n",
       "      <td>문재인</td>\n",
       "      <td>수석·보좌관회의</td>\n",
       "      <td>2021.04.19</td>\n",
       "      <td>국내</td>\n",
       "      <td>회의</td>\n",
       "      <td>우리 정부 임기 마지막 날까지 흔들림 없이 국민과 역사가 부여한 책무를 다하자는 다...</td>\n",
       "    </tr>\n",
       "    <tr>\n",
       "      <th>102590</th>\n",
       "      <td>1401990</td>\n",
       "      <td>문재인</td>\n",
       "      <td>수석·보좌관회의</td>\n",
       "      <td>2021.04.26</td>\n",
       "      <td>국내</td>\n",
       "      <td>회의</td>\n",
       "      <td>코로나19와 같은 감염병의 세계적 대유행은 어느 한 나라가 자국의 문제를 해결한다고...</td>\n",
       "    </tr>\n",
       "    <tr>\n",
       "      <th>102591</th>\n",
       "      <td>1401991</td>\n",
       "      <td>문재인</td>\n",
       "      <td>제18회 국무회의</td>\n",
       "      <td>2021.04.27</td>\n",
       "      <td>국내</td>\n",
       "      <td>회의</td>\n",
       "      <td>오늘 한국은행이 발표한 1분기 GDP 속보치에 따르면 우리 경제는 올해 1분기에 이...</td>\n",
       "    </tr>\n",
       "  </tbody>\n",
       "</table>\n",
       "<p>8771 rows x 7 columns</p>\n",
       "</div>"
      ],
      "text/plain": [
       "        division_number president                title        date location  \\\n",
       "5368            1305368       박정희  제5대 대통령 취임식 대통령 취임사  1963.12.17       국내   \n",
       "5369            1305369       박정희            국회 개회식 치사  1963.12.17       국내   \n",
       "5370            1305370       박정희               신년 메시지  1964.01.01       국내   \n",
       "5371            1305371       박정희      신년 시무식에 즈음한 담화문        1964       국내   \n",
       "5372            1305372       박정희       고급공무원에게 보내는 서신  1964.01.04       국내   \n",
       "...                 ...       ...                  ...         ...      ...   \n",
       "102587          1401987       문재인             수석·보좌관회의  2021.04.05       국내   \n",
       "102588          1401988       문재인            제16회 국무회의  2021.04.13       국내   \n",
       "102589          1401989       문재인             수석·보좌관회의  2021.04.19       국내   \n",
       "102590          1401990       문재인             수석·보좌관회의  2021.04.26       국내   \n",
       "102591          1401991       문재인            제18회 국무회의  2021.04.27       국내   \n",
       "\n",
       "          kind                                        speech_text  \n",
       "5368       취임사  \\n\\n\\n단군성조가 천혜의 이 강토 위에 국기를 닦으신지 반만년, 연면히 이어온 ...  \n",
       "5369       기념사   존경하는 국회의장, 의원제위 그리고 내외귀빈 여러분! 오늘 이 뜻깊은 제3공화국의...  \n",
       "5370       신년사   친애하는 국내외의 동포 여러분! 혁명의 고된 시련을 겪고 민정이양으로 매듭을 지은...  \n",
       "5371    성명/담화문  친애하는 전국의 공무원 여러분! 민족 역사 위에 격동과 시련의 해로 길이 기록될 계...  \n",
       "5372       기념사  청 감갑진년의 새아침을 맞이하여 귀하와 귀하의 가정에 만복이 깃들기를 빌며, 새해에...  \n",
       "...        ...                                                ...  \n",
       "102587      회의  우리가 코로나19 이전으로 얼마나 빨리 돌아갈 수 있는지 여부는 오로지 방역과 백신...  \n",
       "102588      회의  정부는 국민께 무한책임을 진다는 자세로 흔들림 없이 국정에 임해야 합니다.방역도, ...  \n",
       "102589      회의  우리 정부 임기 마지막 날까지 흔들림 없이 국민과 역사가 부여한 책무를 다하자는 다...  \n",
       "102590      회의  코로나19와 같은 감염병의 세계적 대유행은 어느 한 나라가 자국의 문제를 해결한다고...  \n",
       "102591      회의  오늘 한국은행이 발표한 1분기 GDP 속보치에 따르면 우리 경제는 올해 1분기에 이...  \n",
       "\n",
       "[8771 rows x 7 columns]"
      ]
     },
     "execution_count": 9,
     "metadata": {},
     "output_type": "execute_result"
    }
   ],
   "source": [
    "df"
   ]
  },
  {
   "cell_type": "code",
   "execution_count": 32,
   "id": "9d20d7ed-447f-4533-94fd-493da5b73333",
   "metadata": {},
   "outputs": [
    {
     "data": {
      "text/plain": [
       "'/home/tom/code/edu/president-speech/src/president_speech/db/parquet/president_speech_ko.parquet'"
      ]
     },
     "execution_count": 32,
     "metadata": {},
     "output_type": "execute_result"
    }
   ],
   "source": [
    "get_parquet_full_path()"
   ]
  },
  {
   "cell_type": "code",
   "execution_count": 12,
   "id": "52798ba1-3b90-4c28-8052-52e72fbaa83d",
   "metadata": {},
   "outputs": [],
   "source": [
    "df = read_parquet(use_columns=[\"president\"])"
   ]
  },
  {
   "cell_type": "code",
   "execution_count": 13,
   "id": "3b0f843e-f780-484d-bf19-9e437f37807a",
   "metadata": {},
   "outputs": [
    {
     "data": {
      "text/html": [
       "<div>\n",
       "<style scoped>\n",
       "    .dataframe tbody tr th:only-of-type {\n",
       "        vertical-align: middle;\n",
       "    }\n",
       "\n",
       "    .dataframe tbody tr th {\n",
       "        vertical-align: top;\n",
       "    }\n",
       "\n",
       "    .dataframe thead th {\n",
       "        text-align: right;\n",
       "    }\n",
       "</style>\n",
       "<table border=\"1\" class=\"dataframe\">\n",
       "  <thead>\n",
       "    <tr style=\"text-align: right;\">\n",
       "      <th></th>\n",
       "      <th>president</th>\n",
       "    </tr>\n",
       "  </thead>\n",
       "  <tbody>\n",
       "    <tr>\n",
       "      <th>5368</th>\n",
       "      <td>박정희</td>\n",
       "    </tr>\n",
       "    <tr>\n",
       "      <th>5369</th>\n",
       "      <td>박정희</td>\n",
       "    </tr>\n",
       "    <tr>\n",
       "      <th>5370</th>\n",
       "      <td>박정희</td>\n",
       "    </tr>\n",
       "    <tr>\n",
       "      <th>5371</th>\n",
       "      <td>박정희</td>\n",
       "    </tr>\n",
       "    <tr>\n",
       "      <th>5372</th>\n",
       "      <td>박정희</td>\n",
       "    </tr>\n",
       "    <tr>\n",
       "      <th>...</th>\n",
       "      <td>...</td>\n",
       "    </tr>\n",
       "    <tr>\n",
       "      <th>102587</th>\n",
       "      <td>문재인</td>\n",
       "    </tr>\n",
       "    <tr>\n",
       "      <th>102588</th>\n",
       "      <td>문재인</td>\n",
       "    </tr>\n",
       "    <tr>\n",
       "      <th>102589</th>\n",
       "      <td>문재인</td>\n",
       "    </tr>\n",
       "    <tr>\n",
       "      <th>102590</th>\n",
       "      <td>문재인</td>\n",
       "    </tr>\n",
       "    <tr>\n",
       "      <th>102591</th>\n",
       "      <td>문재인</td>\n",
       "    </tr>\n",
       "  </tbody>\n",
       "</table>\n",
       "<p>8771 rows x 1 columns</p>\n",
       "</div>"
      ],
      "text/plain": [
       "       president\n",
       "5368         박정희\n",
       "5369         박정희\n",
       "5370         박정희\n",
       "5371         박정희\n",
       "5372         박정희\n",
       "...          ...\n",
       "102587       문재인\n",
       "102588       문재인\n",
       "102589       문재인\n",
       "102590       문재인\n",
       "102591       문재인\n",
       "\n",
       "[8771 rows x 1 columns]"
      ]
     },
     "execution_count": 13,
     "metadata": {},
     "output_type": "execute_result"
    }
   ],
   "source": [
    "df"
   ]
  },
  {
   "cell_type": "code",
   "execution_count": 14,
   "id": "8e6c905b-15d0-492e-a07b-f7fd91bdb1f6",
   "metadata": {},
   "outputs": [],
   "source": [
    "grouped = df.groupby(\"president\")"
   ]
  },
  {
   "cell_type": "code",
   "execution_count": 15,
   "id": "251d0296-86a3-4d3e-bcb0-6e543f1f7b8d",
   "metadata": {},
   "outputs": [],
   "source": [
    "result_df = grouped.size().reset_index(name=\"speeches\")"
   ]
  },
  {
   "cell_type": "code",
   "execution_count": 30,
   "id": "2a2d637f-8fb7-404f-9195-0226c00aa819",
   "metadata": {},
   "outputs": [
    {
     "data": {
      "text/plain": [
       "modin.pandas.dataframe.DataFrame"
      ]
     },
     "execution_count": 30,
     "metadata": {},
     "output_type": "execute_result"
    }
   ],
   "source": [
    "type(result_df)"
   ]
  },
  {
   "cell_type": "code",
   "execution_count": null,
   "id": "83417a97-726d-44ba-b745-4667bfb49de4",
   "metadata": {},
   "outputs": [],
   "source": []
  },
  {
   "cell_type": "code",
   "execution_count": 33,
   "id": "fecc5e35-f35e-49c6-bb09-ba7d00633e39",
   "metadata": {},
   "outputs": [],
   "source": [
    "result_df.to_parquet('/home/tom/code/edu/president-speech/src/president_speech/db/parquet/result_df.parquet')"
   ]
  },
  {
   "cell_type": "code",
   "execution_count": 34,
   "id": "1d2f77c1-3cbb-4794-adb6-7c32c483c8f3",
   "metadata": {},
   "outputs": [],
   "source": [
    "import pandas as pada"
   ]
  },
  {
   "cell_type": "code",
   "execution_count": 35,
   "id": "4eb994f0-df36-4187-b2dc-7e574d811e98",
   "metadata": {},
   "outputs": [],
   "source": [
    "df = pada.read_parquet('/home/tom/code/edu/president-speech/src/president_speech/db/parquet/result_df.parquet')"
   ]
  },
  {
   "cell_type": "code",
   "execution_count": 36,
   "id": "82468a25-5e20-4b09-9ef8-0ca93a78c7f7",
   "metadata": {},
   "outputs": [
    {
     "data": {
      "text/plain": [
       "pandas.core.frame.DataFrame"
      ]
     },
     "execution_count": 36,
     "metadata": {},
     "output_type": "execute_result"
    }
   ],
   "source": [
    "type(df)"
   ]
  },
  {
   "cell_type": "code",
   "execution_count": 30,
   "id": "24035e82-19b0-4370-8fef-03aef81e1888",
   "metadata": {},
   "outputs": [
    {
     "data": {
      "text/plain": [
       "modin.pandas.dataframe.DataFrame"
      ]
     },
     "execution_count": 30,
     "metadata": {},
     "output_type": "execute_result"
    }
   ],
   "source": [
    "type(result_df)"
   ]
  },
  {
   "cell_type": "code",
   "execution_count": 23,
   "id": "f2ae8f8b-f4f9-478e-8fe6-255a88b142ce",
   "metadata": {},
   "outputs": [
    {
     "ename": "AttributeError",
     "evalue": "module 'modin.pandas' has no attribute 'to_pandas'",
     "output_type": "error",
     "traceback": [
      "\u001b[0;31m---------------------------------------------------------------------------\u001b[0m",
      "\u001b[0;31mAttributeError\u001b[0m                            Traceback (most recent call last)",
      "Cell \u001b[0;32mIn[23], line 1\u001b[0m\n\u001b[0;32m----> 1\u001b[0m pandas_df \u001b[38;5;241m=\u001b[39m \u001b[43mpd\u001b[49m\u001b[38;5;241;43m.\u001b[39;49m\u001b[43mto_pandas\u001b[49m(result_df)\n",
      "\u001b[0;31mAttributeError\u001b[0m: module 'modin.pandas' has no attribute 'to_pandas'"
     ]
    }
   ],
   "source": [
    "pandas_df = pd.to_pandas(result_df)"
   ]
  },
  {
   "cell_type": "code",
   "execution_count": 23,
   "id": "18bf178d-81e5-4c08-abcf-a108ac190adb",
   "metadata": {},
   "outputs": [
    {
     "ename": "AttributeError",
     "evalue": "module 'modin.pandas' has no attribute 'to_pandas'",
     "output_type": "error",
     "traceback": [
      "\u001b[0;31m---------------------------------------------------------------------------\u001b[0m",
      "\u001b[0;31mAttributeError\u001b[0m                            Traceback (most recent call last)",
      "Cell \u001b[0;32mIn[23], line 1\u001b[0m\n\u001b[0;32m----> 1\u001b[0m pandas_df \u001b[38;5;241m=\u001b[39m \u001b[43mpd\u001b[49m\u001b[38;5;241;43m.\u001b[39;49m\u001b[43mto_pandas\u001b[49m(result_df)\n",
      "\u001b[0;31mAttributeError\u001b[0m: module 'modin.pandas' has no attribute 'to_pandas'"
     ]
    }
   ],
   "source": [
    "pandas_df = pd.to_pandas(result_df)"
   ]
  },
  {
   "cell_type": "code",
   "execution_count": 22,
   "id": "f988c98d-b0ac-4a6f-9373-6a9cad60f24f",
   "metadata": {},
   "outputs": [
    {
     "data": {
      "text/plain": [
       "modin.pandas.dataframe.DataFrame"
      ]
     },
     "execution_count": 22,
     "metadata": {},
     "output_type": "execute_result"
    }
   ],
   "source": [
    "type(pandas_df)"
   ]
  },
  {
   "cell_type": "code",
   "execution_count": 19,
   "id": "52ffa413-880e-4f44-887b-f78a2c751abd",
   "metadata": {},
   "outputs": [
    {
     "name": "stderr",
     "output_type": "stream",
     "text": [
      "UserWarning: Distributing <class 'dict'> object. This may take some time.\n"
     ]
    },
    {
     "ename": "AttributeError",
     "evalue": "'DataFrame' object has no attribute 'to_pandas'",
     "output_type": "error",
     "traceback": [
      "\u001b[0;31m---------------------------------------------------------------------------\u001b[0m",
      "\u001b[0;31mAttributeError\u001b[0m                            Traceback (most recent call last)",
      "Cell \u001b[0;32mIn[19], line 5\u001b[0m\n\u001b[1;32m      1\u001b[0m \u001b[38;5;28;01mimport\u001b[39;00m \u001b[38;5;21;01mmodin\u001b[39;00m\u001b[38;5;21;01m.\u001b[39;00m\u001b[38;5;21;01mpandas\u001b[39;00m \u001b[38;5;28;01mas\u001b[39;00m \u001b[38;5;21;01mpd\u001b[39;00m\n\u001b[1;32m      3\u001b[0m df \u001b[38;5;241m=\u001b[39m pd\u001b[38;5;241m.\u001b[39mDataFrame({\u001b[38;5;124m'\u001b[39m\u001b[38;5;124ma\u001b[39m\u001b[38;5;124m'\u001b[39m: [\u001b[38;5;241m1\u001b[39m, \u001b[38;5;241m2\u001b[39m, \u001b[38;5;241m3\u001b[39m], \u001b[38;5;124m'\u001b[39m\u001b[38;5;124mb\u001b[39m\u001b[38;5;124m'\u001b[39m: [\u001b[38;5;241m4\u001b[39m, \u001b[38;5;241m5\u001b[39m, \u001b[38;5;241m6\u001b[39m]})\n\u001b[0;32m----> 5\u001b[0m pd_df \u001b[38;5;241m=\u001b[39m \u001b[43mdf\u001b[49m\u001b[38;5;241;43m.\u001b[39;49m\u001b[43mto_pandas\u001b[49m()\n\u001b[1;32m      7\u001b[0m \u001b[38;5;28mprint\u001b[39m(pd_df)\n",
      "File \u001b[0;32m~/code/edu/president-speech/.venv/lib/python3.9/site-packages/modin/pandas/dataframe.py:2380\u001b[0m, in \u001b[0;36mDataFrame.__getattr__\u001b[0;34m(self, key)\u001b[0m\n\u001b[1;32m   2378\u001b[0m \u001b[38;5;28;01mif\u001b[39;00m key \u001b[38;5;129;01mnot\u001b[39;00m \u001b[38;5;129;01min\u001b[39;00m _ATTRS_NO_LOOKUP \u001b[38;5;129;01mand\u001b[39;00m key \u001b[38;5;129;01min\u001b[39;00m \u001b[38;5;28mself\u001b[39m\u001b[38;5;241m.\u001b[39mcolumns:\n\u001b[1;32m   2379\u001b[0m     \u001b[38;5;28;01mreturn\u001b[39;00m \u001b[38;5;28mself\u001b[39m[key]\n\u001b[0;32m-> 2380\u001b[0m \u001b[38;5;28;01mraise\u001b[39;00m err\n",
      "File \u001b[0;32m~/code/edu/president-speech/.venv/lib/python3.9/site-packages/modin/pandas/dataframe.py:2376\u001b[0m, in \u001b[0;36mDataFrame.__getattr__\u001b[0;34m(self, key)\u001b[0m\n\u001b[1;32m   2358\u001b[0m \u001b[38;5;250m\u001b[39m\u001b[38;5;124;03m\"\"\"\u001b[39;00m\n\u001b[1;32m   2359\u001b[0m \u001b[38;5;124;03mReturn item identified by `key`.\u001b[39;00m\n\u001b[1;32m   2360\u001b[0m \n\u001b[0;32m   (...)\u001b[0m\n\u001b[1;32m   2373\u001b[0m \u001b[38;5;124;03mtry to get `key` from ``DataFrame`` fields.\u001b[39;00m\n\u001b[1;32m   2374\u001b[0m \u001b[38;5;124;03m\"\"\"\u001b[39;00m\n\u001b[1;32m   2375\u001b[0m \u001b[38;5;28;01mtry\u001b[39;00m:\n\u001b[0;32m-> 2376\u001b[0m     \u001b[38;5;28;01mreturn\u001b[39;00m \u001b[38;5;28;43mobject\u001b[39;49m\u001b[38;5;241;43m.\u001b[39;49m\u001b[38;5;21;43m__getattribute__\u001b[39;49m\u001b[43m(\u001b[49m\u001b[38;5;28;43mself\u001b[39;49m\u001b[43m,\u001b[49m\u001b[43m \u001b[49m\u001b[43mkey\u001b[49m\u001b[43m)\u001b[49m\n\u001b[1;32m   2377\u001b[0m \u001b[38;5;28;01mexcept\u001b[39;00m \u001b[38;5;167;01mAttributeError\u001b[39;00m \u001b[38;5;28;01mas\u001b[39;00m err:\n\u001b[1;32m   2378\u001b[0m     \u001b[38;5;28;01mif\u001b[39;00m key \u001b[38;5;129;01mnot\u001b[39;00m \u001b[38;5;129;01min\u001b[39;00m _ATTRS_NO_LOOKUP \u001b[38;5;129;01mand\u001b[39;00m key \u001b[38;5;129;01min\u001b[39;00m \u001b[38;5;28mself\u001b[39m\u001b[38;5;241m.\u001b[39mcolumns:\n",
      "\u001b[0;31mAttributeError\u001b[0m: 'DataFrame' object has no attribute 'to_pandas'"
     ]
    }
   ],
   "source": [
    "import modin.pandas as pd\n",
    "\n",
    "df = pd.DataFrame({'a': [1, 2, 3], 'b': [4, 5, 6]})\n",
    "\n",
    "pd_df = df.to_pandas()\n",
    "\n",
    "print(pd_df)\n"
   ]
  },
  {
   "cell_type": "code",
   "execution_count": 24,
   "id": "bb2db6e5-1a58-44a4-82d0-093bdce19e8b",
   "metadata": {},
   "outputs": [
    {
     "name": "stderr",
     "output_type": "stream",
     "text": [
      "UserWarning: Distributing <class 'list'> object. This may take some time.\n"
     ]
    },
    {
     "ename": "AttributeError",
     "evalue": "'DataFrame' object has no attribute 'to_pandas'",
     "output_type": "error",
     "traceback": [
      "\u001b[0;31m---------------------------------------------------------------------------\u001b[0m",
      "\u001b[0;31mAttributeError\u001b[0m                            Traceback (most recent call last)",
      "Cell \u001b[0;32mIn[24], line 4\u001b[0m\n\u001b[1;32m      1\u001b[0m \u001b[38;5;28;01mimport\u001b[39;00m \u001b[38;5;21;01mmodin\u001b[39;00m\u001b[38;5;21;01m.\u001b[39;00m\u001b[38;5;21;01mpandas\u001b[39;00m \u001b[38;5;28;01mas\u001b[39;00m \u001b[38;5;21;01mpd\u001b[39;00m\n\u001b[1;32m      3\u001b[0m modin_df \u001b[38;5;241m=\u001b[39m pd\u001b[38;5;241m.\u001b[39mDataFrame([[\u001b[38;5;241m1\u001b[39m, \u001b[38;5;241m2\u001b[39m, \u001b[38;5;241m3\u001b[39m], [\u001b[38;5;241m4\u001b[39m, \u001b[38;5;241m5\u001b[39m, \u001b[38;5;241m6\u001b[39m]])\n\u001b[0;32m----> 4\u001b[0m pandas_df \u001b[38;5;241m=\u001b[39m \u001b[43mmodin_df\u001b[49m\u001b[38;5;241;43m.\u001b[39;49m\u001b[43mto_pandas\u001b[49m()\n",
      "File \u001b[0;32m~/code/edu/president-speech/.venv/lib/python3.9/site-packages/modin/pandas/dataframe.py:2380\u001b[0m, in \u001b[0;36mDataFrame.__getattr__\u001b[0;34m(self, key)\u001b[0m\n\u001b[1;32m   2378\u001b[0m \u001b[38;5;28;01mif\u001b[39;00m key \u001b[38;5;129;01mnot\u001b[39;00m \u001b[38;5;129;01min\u001b[39;00m _ATTRS_NO_LOOKUP \u001b[38;5;129;01mand\u001b[39;00m key \u001b[38;5;129;01min\u001b[39;00m \u001b[38;5;28mself\u001b[39m\u001b[38;5;241m.\u001b[39mcolumns:\n\u001b[1;32m   2379\u001b[0m     \u001b[38;5;28;01mreturn\u001b[39;00m \u001b[38;5;28mself\u001b[39m[key]\n\u001b[0;32m-> 2380\u001b[0m \u001b[38;5;28;01mraise\u001b[39;00m err\n",
      "File \u001b[0;32m~/code/edu/president-speech/.venv/lib/python3.9/site-packages/modin/pandas/dataframe.py:2376\u001b[0m, in \u001b[0;36mDataFrame.__getattr__\u001b[0;34m(self, key)\u001b[0m\n\u001b[1;32m   2358\u001b[0m \u001b[38;5;250m\u001b[39m\u001b[38;5;124;03m\"\"\"\u001b[39;00m\n\u001b[1;32m   2359\u001b[0m \u001b[38;5;124;03mReturn item identified by `key`.\u001b[39;00m\n\u001b[1;32m   2360\u001b[0m \n\u001b[0;32m   (...)\u001b[0m\n\u001b[1;32m   2373\u001b[0m \u001b[38;5;124;03mtry to get `key` from ``DataFrame`` fields.\u001b[39;00m\n\u001b[1;32m   2374\u001b[0m \u001b[38;5;124;03m\"\"\"\u001b[39;00m\n\u001b[1;32m   2375\u001b[0m \u001b[38;5;28;01mtry\u001b[39;00m:\n\u001b[0;32m-> 2376\u001b[0m     \u001b[38;5;28;01mreturn\u001b[39;00m \u001b[38;5;28;43mobject\u001b[39;49m\u001b[38;5;241;43m.\u001b[39;49m\u001b[38;5;21;43m__getattribute__\u001b[39;49m\u001b[43m(\u001b[49m\u001b[38;5;28;43mself\u001b[39;49m\u001b[43m,\u001b[49m\u001b[43m \u001b[49m\u001b[43mkey\u001b[49m\u001b[43m)\u001b[49m\n\u001b[1;32m   2377\u001b[0m \u001b[38;5;28;01mexcept\u001b[39;00m \u001b[38;5;167;01mAttributeError\u001b[39;00m \u001b[38;5;28;01mas\u001b[39;00m err:\n\u001b[1;32m   2378\u001b[0m     \u001b[38;5;28;01mif\u001b[39;00m key \u001b[38;5;129;01mnot\u001b[39;00m \u001b[38;5;129;01min\u001b[39;00m _ATTRS_NO_LOOKUP \u001b[38;5;129;01mand\u001b[39;00m key \u001b[38;5;129;01min\u001b[39;00m \u001b[38;5;28mself\u001b[39m\u001b[38;5;241m.\u001b[39mcolumns:\n",
      "\u001b[0;31mAttributeError\u001b[0m: 'DataFrame' object has no attribute 'to_pandas'"
     ]
    }
   ],
   "source": [
    "import modin.pandas as pd\n",
    "\n",
    "modin_df = pd.DataFrame([[1, 2, 3], [4, 5, 6]])\n",
    "pandas_df = modin_df.to_pandas()"
   ]
  },
  {
   "cell_type": "code",
   "execution_count": 25,
   "id": "716d44ae-1ac8-4d54-8eb5-76ad86f745a0",
   "metadata": {},
   "outputs": [
    {
     "name": "stdout",
     "output_type": "stream",
     "text": [
      "   0  1  2\n",
      "0  1  2  3\n",
      "1  4  5  6\n"
     ]
    },
    {
     "name": "stderr",
     "output_type": "stream",
     "text": [
      "UserWarning: Distributing <class 'list'> object. This may take some time.\n"
     ]
    }
   ],
   "source": [
    "import modin.pandas as pd\n",
    "\n",
    "modin_df = pd.DataFrame([[1, 2, 3], [4, 5, 6]])\n",
    "\n",
    "pandas_df = pd.DataFrame(modin_df)\n",
    "\n",
    "print(pandas_df)\n",
    "\n"
   ]
  },
  {
   "cell_type": "code",
   "execution_count": 26,
   "id": "daa78ddc-504d-4525-905e-ebef66b42f9f",
   "metadata": {},
   "outputs": [
    {
     "data": {
      "text/plain": [
       "modin.pandas.dataframe.DataFrame"
      ]
     },
     "execution_count": 26,
     "metadata": {},
     "output_type": "execute_result"
    }
   ],
   "source": [
    "type(pandas_df)"
   ]
  },
  {
   "cell_type": "code",
   "execution_count": 27,
   "id": "1b4ab7bf-bc3b-4e8f-923a-88514a7c3c47",
   "metadata": {},
   "outputs": [
    {
     "name": "stderr",
     "output_type": "stream",
     "text": [
      "UserWarning: Distributing <class 'list'> object. This may take some time.\n"
     ]
    },
    {
     "ename": "AttributeError",
     "evalue": "'DataFrame' object has no attribute 'to_pandas'",
     "output_type": "error",
     "traceback": [
      "\u001b[0;31m---------------------------------------------------------------------------\u001b[0m",
      "\u001b[0;31mAttributeError\u001b[0m                            Traceback (most recent call last)",
      "Cell \u001b[0;32mIn[27], line 5\u001b[0m\n\u001b[1;32m      1\u001b[0m \u001b[38;5;28;01mimport\u001b[39;00m \u001b[38;5;21;01mmodin\u001b[39;00m\u001b[38;5;21;01m.\u001b[39;00m\u001b[38;5;21;01mpandas\u001b[39;00m \u001b[38;5;28;01mas\u001b[39;00m \u001b[38;5;21;01mpd\u001b[39;00m\n\u001b[1;32m      3\u001b[0m modin_df \u001b[38;5;241m=\u001b[39m pd\u001b[38;5;241m.\u001b[39mDataFrame([[\u001b[38;5;241m1\u001b[39m, \u001b[38;5;241m2\u001b[39m, \u001b[38;5;241m3\u001b[39m], [\u001b[38;5;241m4\u001b[39m, \u001b[38;5;241m5\u001b[39m, \u001b[38;5;241m6\u001b[39m]])\n\u001b[0;32m----> 5\u001b[0m pandas_df \u001b[38;5;241m=\u001b[39m \u001b[43mmodin_df\u001b[49m\u001b[38;5;241;43m.\u001b[39;49m\u001b[43mto_pandas\u001b[49m()\n\u001b[1;32m      7\u001b[0m \u001b[38;5;28mprint\u001b[39m(\u001b[38;5;28mtype\u001b[39m(pandas_df))\n",
      "File \u001b[0;32m~/code/edu/president-speech/.venv/lib/python3.9/site-packages/modin/pandas/dataframe.py:2380\u001b[0m, in \u001b[0;36mDataFrame.__getattr__\u001b[0;34m(self, key)\u001b[0m\n\u001b[1;32m   2378\u001b[0m \u001b[38;5;28;01mif\u001b[39;00m key \u001b[38;5;129;01mnot\u001b[39;00m \u001b[38;5;129;01min\u001b[39;00m _ATTRS_NO_LOOKUP \u001b[38;5;129;01mand\u001b[39;00m key \u001b[38;5;129;01min\u001b[39;00m \u001b[38;5;28mself\u001b[39m\u001b[38;5;241m.\u001b[39mcolumns:\n\u001b[1;32m   2379\u001b[0m     \u001b[38;5;28;01mreturn\u001b[39;00m \u001b[38;5;28mself\u001b[39m[key]\n\u001b[0;32m-> 2380\u001b[0m \u001b[38;5;28;01mraise\u001b[39;00m err\n",
      "File \u001b[0;32m~/code/edu/president-speech/.venv/lib/python3.9/site-packages/modin/pandas/dataframe.py:2376\u001b[0m, in \u001b[0;36mDataFrame.__getattr__\u001b[0;34m(self, key)\u001b[0m\n\u001b[1;32m   2358\u001b[0m \u001b[38;5;250m\u001b[39m\u001b[38;5;124;03m\"\"\"\u001b[39;00m\n\u001b[1;32m   2359\u001b[0m \u001b[38;5;124;03mReturn item identified by `key`.\u001b[39;00m\n\u001b[1;32m   2360\u001b[0m \n\u001b[0;32m   (...)\u001b[0m\n\u001b[1;32m   2373\u001b[0m \u001b[38;5;124;03mtry to get `key` from ``DataFrame`` fields.\u001b[39;00m\n\u001b[1;32m   2374\u001b[0m \u001b[38;5;124;03m\"\"\"\u001b[39;00m\n\u001b[1;32m   2375\u001b[0m \u001b[38;5;28;01mtry\u001b[39;00m:\n\u001b[0;32m-> 2376\u001b[0m     \u001b[38;5;28;01mreturn\u001b[39;00m \u001b[38;5;28;43mobject\u001b[39;49m\u001b[38;5;241;43m.\u001b[39;49m\u001b[38;5;21;43m__getattribute__\u001b[39;49m\u001b[43m(\u001b[49m\u001b[38;5;28;43mself\u001b[39;49m\u001b[43m,\u001b[49m\u001b[43m \u001b[49m\u001b[43mkey\u001b[49m\u001b[43m)\u001b[49m\n\u001b[1;32m   2377\u001b[0m \u001b[38;5;28;01mexcept\u001b[39;00m \u001b[38;5;167;01mAttributeError\u001b[39;00m \u001b[38;5;28;01mas\u001b[39;00m err:\n\u001b[1;32m   2378\u001b[0m     \u001b[38;5;28;01mif\u001b[39;00m key \u001b[38;5;129;01mnot\u001b[39;00m \u001b[38;5;129;01min\u001b[39;00m _ATTRS_NO_LOOKUP \u001b[38;5;129;01mand\u001b[39;00m key \u001b[38;5;129;01min\u001b[39;00m \u001b[38;5;28mself\u001b[39m\u001b[38;5;241m.\u001b[39mcolumns:\n",
      "\u001b[0;31mAttributeError\u001b[0m: 'DataFrame' object has no attribute 'to_pandas'"
     ]
    }
   ],
   "source": [
    "import modin.pandas as pd\n",
    "\n",
    "modin_df = pd.DataFrame([[1, 2, 3], [4, 5, 6]])\n",
    "\n",
    "pandas_df = modin_df.to_pandas()\n",
    "\n",
    "print(type(pandas_df))\n"
   ]
  },
  {
   "cell_type": "code",
   "execution_count": 29,
   "id": "22c48782-cab3-4686-b2ef-6e91bec6dec6",
   "metadata": {},
   "outputs": [
    {
     "ename": "NameError",
     "evalue": "name 'modin_to_pandas' is not defined",
     "output_type": "error",
     "traceback": [
      "\u001b[0;31m---------------------------------------------------------------------------\u001b[0m",
      "\u001b[0;31mNameError\u001b[0m                                 Traceback (most recent call last)",
      "Cell \u001b[0;32mIn[29], line 1\u001b[0m\n\u001b[0;32m----> 1\u001b[0m \u001b[43mmodin_to_pandas\u001b[49m(modin_df)\n",
      "\u001b[0;31mNameError\u001b[0m: name 'modin_to_pandas' is not defined"
     ]
    }
   ],
   "source": [
    "modin_to_pandas(modin_df)"
   ]
  },
  {
   "cell_type": "code",
   "execution_count": null,
   "id": "4c7db22b-9e51-424d-8aa1-be07123a4a4b",
   "metadata": {},
   "outputs": [],
   "source": []
  }
 ],
 "metadata": {
  "kernelspec": {
   "display_name": "Python 3 (ipykernel)",
   "language": "python",
   "name": "python3"
  },
  "language_info": {
   "codemirror_mode": {
    "name": "ipython",
    "version": 3
   },
   "file_extension": ".py",
   "mimetype": "text/x-python",
   "name": "python",
   "nbconvert_exporter": "python",
   "pygments_lexer": "ipython3",
   "version": "3.9.16"
  }
 },
 "nbformat": 4,
 "nbformat_minor": 5
}
