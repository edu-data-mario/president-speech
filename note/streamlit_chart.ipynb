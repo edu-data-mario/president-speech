{
 "cells": [
  {
   "cell_type": "code",
   "execution_count": 2,
   "id": "initial_id",
   "metadata": {
    "collapsed": true,
    "ExecuteTime": {
     "end_time": "2023-09-07T05:42:30.264316Z",
     "start_time": "2023-09-07T05:42:29.761956Z"
    }
   },
   "outputs": [
    {
     "name": "stdout",
     "output_type": "stream",
     "text": [
      "<class 'pandas.core.frame.DataFrame'>\n",
      "Index: 8771 entries, 5368 to 102591\n",
      "Data columns (total 7 columns):\n",
      " #   Column           Non-Null Count  Dtype \n",
      "---  ------           --------------  ----- \n",
      " 0   division_number  8771 non-null   int64 \n",
      " 1   president        8771 non-null   object\n",
      " 2   title            8771 non-null   object\n",
      " 3   date             8771 non-null   object\n",
      " 4   location         8771 non-null   object\n",
      " 5   kind             8771 non-null   object\n",
      " 6   speech_text      8771 non-null   object\n",
      "dtypes: int64(1), object(6)\n",
      "memory usage: 548.2+ KB\n"
     ]
    }
   ],
   "source": [
    "import pandas as pd\n",
    "from president_speech.db.parquet_interpreter import get_parquet_full_path\n",
    "\n",
    "parquet_full_path = get_parquet_full_path()\n",
    "df = pd.read_parquet(parquet_full_path)\n",
    "df.info()"
   ]
  },
  {
   "cell_type": "code",
   "execution_count": 4,
   "outputs": [
    {
     "name": "stdout",
     "output_type": "stream",
     "text": [
      "<class 'pandas.core.frame.DataFrame'>\n",
      "Index: 8771 entries, 5368 to 102591\n",
      "Data columns (total 1 columns):\n",
      " #   Column     Non-Null Count  Dtype \n",
      "---  ------     --------------  ----- \n",
      " 0   president  8771 non-null   object\n",
      "dtypes: object(1)\n",
      "memory usage: 137.0+ KB\n"
     ]
    }
   ],
   "source": [
    "df = pd.read_parquet(parquet_full_path, columns=[\"president\"])\n",
    "df.info()"
   ],
   "metadata": {
    "collapsed": false,
    "ExecuteTime": {
     "end_time": "2023-09-07T05:43:34.299454Z",
     "start_time": "2023-09-07T05:43:34.291284Z"
    }
   },
   "id": "a093dd764d447b74"
  },
  {
   "cell_type": "code",
   "execution_count": 8,
   "outputs": [],
   "source": [
    "# president 로 그룹핑\n",
    "grouped = df.groupby(\"president\")\n",
    "\n",
    "# count 를 해서 새로운 테이블로 생성\n",
    "result = grouped.size().reset_index(name=\"count\")"
   ],
   "metadata": {
    "collapsed": false,
    "ExecuteTime": {
     "end_time": "2023-09-07T05:50:07.530965Z",
     "start_time": "2023-09-07T05:50:07.526373Z"
    }
   },
   "id": "e4dc86cf7d01f2c3"
  },
  {
   "cell_type": "code",
   "execution_count": 9,
   "outputs": [
    {
     "data": {
      "text/plain": "   president  count\n0        김대중    822\n1        김영삼    728\n2        노무현    780\n3        노태우    601\n4        문재인   1389\n5        박근혜    493\n6        박정희   1270\n7        윤보선      3\n8        이명박   1027\n9        이승만    998\n10       전두환    602\n11       최규하     58",
      "text/html": "<div>\n<style scoped>\n    .dataframe tbody tr th:only-of-type {\n        vertical-align: middle;\n    }\n\n    .dataframe tbody tr th {\n        vertical-align: top;\n    }\n\n    .dataframe thead th {\n        text-align: right;\n    }\n</style>\n<table border=\"1\" class=\"dataframe\">\n  <thead>\n    <tr style=\"text-align: right;\">\n      <th></th>\n      <th>president</th>\n      <th>count</th>\n    </tr>\n  </thead>\n  <tbody>\n    <tr>\n      <th>0</th>\n      <td>김대중</td>\n      <td>822</td>\n    </tr>\n    <tr>\n      <th>1</th>\n      <td>김영삼</td>\n      <td>728</td>\n    </tr>\n    <tr>\n      <th>2</th>\n      <td>노무현</td>\n      <td>780</td>\n    </tr>\n    <tr>\n      <th>3</th>\n      <td>노태우</td>\n      <td>601</td>\n    </tr>\n    <tr>\n      <th>4</th>\n      <td>문재인</td>\n      <td>1389</td>\n    </tr>\n    <tr>\n      <th>5</th>\n      <td>박근혜</td>\n      <td>493</td>\n    </tr>\n    <tr>\n      <th>6</th>\n      <td>박정희</td>\n      <td>1270</td>\n    </tr>\n    <tr>\n      <th>7</th>\n      <td>윤보선</td>\n      <td>3</td>\n    </tr>\n    <tr>\n      <th>8</th>\n      <td>이명박</td>\n      <td>1027</td>\n    </tr>\n    <tr>\n      <th>9</th>\n      <td>이승만</td>\n      <td>998</td>\n    </tr>\n    <tr>\n      <th>10</th>\n      <td>전두환</td>\n      <td>602</td>\n    </tr>\n    <tr>\n      <th>11</th>\n      <td>최규하</td>\n      <td>58</td>\n    </tr>\n  </tbody>\n</table>\n</div>"
     },
     "execution_count": 9,
     "metadata": {},
     "output_type": "execute_result"
    }
   ],
   "source": [
    "result"
   ],
   "metadata": {
    "collapsed": false,
    "ExecuteTime": {
     "end_time": "2023-09-07T05:50:12.420858Z",
     "start_time": "2023-09-07T05:50:12.412773Z"
    }
   },
   "id": "a1706fc2bf4b741d"
  },
  {
   "cell_type": "code",
   "execution_count": 10,
   "outputs": [
    {
     "data": {
      "text/plain": "pandas.core.frame.DataFrame"
     },
     "execution_count": 10,
     "metadata": {},
     "output_type": "execute_result"
    }
   ],
   "source": [
    "type(result)"
   ],
   "metadata": {
    "collapsed": false,
    "ExecuteTime": {
     "end_time": "2023-09-07T05:56:01.198368Z",
     "start_time": "2023-09-07T05:56:01.180504Z"
    }
   },
   "id": "7a3bc5c16676f8ba"
  },
  {
   "cell_type": "code",
   "execution_count": null,
   "outputs": [],
   "source": [],
   "metadata": {
    "collapsed": false
   },
   "id": "53e674c8ce2cdc18"
  }
 ],
 "metadata": {
  "kernelspec": {
   "display_name": "Python 3",
   "language": "python",
   "name": "python3"
  },
  "language_info": {
   "codemirror_mode": {
    "name": "ipython",
    "version": 2
   },
   "file_extension": ".py",
   "mimetype": "text/x-python",
   "name": "python",
   "nbconvert_exporter": "python",
   "pygments_lexer": "ipython2",
   "version": "2.7.6"
  }
 },
 "nbformat": 4,
 "nbformat_minor": 5
}
