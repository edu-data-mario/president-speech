{
 "cells": [
  {
   "cell_type": "code",
   "execution_count": 2,
   "id": "initial_id",
   "metadata": {
    "collapsed": true,
    "ExecuteTime": {
     "end_time": "2023-09-07T05:42:30.264316Z",
     "start_time": "2023-09-07T05:42:29.761956Z"
    }
   },
   "outputs": [
    {
     "name": "stdout",
     "output_type": "stream",
     "text": [
      "<class 'pandas.core.frame.DataFrame'>\n",
      "Index: 8771 entries, 5368 to 102591\n",
      "Data columns (total 7 columns):\n",
      " #   Column           Non-Null Count  Dtype \n",
      "---  ------           --------------  ----- \n",
      " 0   division_number  8771 non-null   int64 \n",
      " 1   president        8771 non-null   object\n",
      " 2   title            8771 non-null   object\n",
      " 3   date             8771 non-null   object\n",
      " 4   location         8771 non-null   object\n",
      " 5   kind             8771 non-null   object\n",
      " 6   speech_text      8771 non-null   object\n",
      "dtypes: int64(1), object(6)\n",
      "memory usage: 548.2+ KB\n"
     ]
    }
   ],
   "source": [
    "import pandas as pd\n",
    "from president_speech.db.parquet_interpreter import get_parquet_full_path\n",
    "\n",
    "parquet_full_path = get_parquet_full_path()\n",
    "df = pd.read_parquet(parquet_full_path)\n",
    "df.info()"
   ]
  },
  {
   "cell_type": "code",
   "execution_count": 4,
   "outputs": [
    {
     "name": "stdout",
     "output_type": "stream",
     "text": [
      "<class 'pandas.core.frame.DataFrame'>\n",
      "Index: 8771 entries, 5368 to 102591\n",
      "Data columns (total 1 columns):\n",
      " #   Column     Non-Null Count  Dtype \n",
      "---  ------     --------------  ----- \n",
      " 0   president  8771 non-null   object\n",
      "dtypes: object(1)\n",
      "memory usage: 137.0+ KB\n"
     ]
    }
   ],
   "source": [
    "df = pd.read_parquet(parquet_full_path, columns=[\"president\"])\n",
    "df.info()"
   ],
   "metadata": {
    "collapsed": false,
    "ExecuteTime": {
     "end_time": "2023-09-07T05:43:34.299454Z",
     "start_time": "2023-09-07T05:43:34.291284Z"
    }
   },
   "id": "a093dd764d447b74"
  },
  {
   "cell_type": "code",
   "execution_count": 8,
   "outputs": [],
   "source": [
    "# president 로 그룹핑\n",
    "grouped = df.groupby(\"president\")\n",
    "\n",
    "# count 를 해서 새로운 테이블로 생성\n",
    "result = grouped.size().reset_index(name=\"count\")"
   ],
   "metadata": {
    "collapsed": false,
    "ExecuteTime": {
     "end_time": "2023-09-07T05:50:07.530965Z",
     "start_time": "2023-09-07T05:50:07.526373Z"
    }
   },
   "id": "e4dc86cf7d01f2c3"
  },
  {
   "cell_type": "code",
   "execution_count": 9,
   "outputs": [
    {
     "data": {
      "text/plain": "   president  count\n0        김대중    822\n1        김영삼    728\n2        노무현    780\n3        노태우    601\n4        문재인   1389\n5        박근혜    493\n6        박정희   1270\n7        윤보선      3\n8        이명박   1027\n9        이승만    998\n10       전두환    602\n11       최규하     58",
      "text/html": "<div>\n<style scoped>\n    .dataframe tbody tr th:only-of-type {\n        vertical-align: middle;\n    }\n\n    .dataframe tbody tr th {\n        vertical-align: top;\n    }\n\n    .dataframe thead th {\n        text-align: right;\n    }\n</style>\n<table border=\"1\" class=\"dataframe\">\n  <thead>\n    <tr style=\"text-align: right;\">\n      <th></th>\n      <th>president</th>\n      <th>count</th>\n    </tr>\n  </thead>\n  <tbody>\n    <tr>\n      <th>0</th>\n      <td>김대중</td>\n      <td>822</td>\n    </tr>\n    <tr>\n      <th>1</th>\n      <td>김영삼</td>\n      <td>728</td>\n    </tr>\n    <tr>\n      <th>2</th>\n      <td>노무현</td>\n      <td>780</td>\n    </tr>\n    <tr>\n      <th>3</th>\n      <td>노태우</td>\n      <td>601</td>\n    </tr>\n    <tr>\n      <th>4</th>\n      <td>문재인</td>\n      <td>1389</td>\n    </tr>\n    <tr>\n      <th>5</th>\n      <td>박근혜</td>\n      <td>493</td>\n    </tr>\n    <tr>\n      <th>6</th>\n      <td>박정희</td>\n      <td>1270</td>\n    </tr>\n    <tr>\n      <th>7</th>\n      <td>윤보선</td>\n      <td>3</td>\n    </tr>\n    <tr>\n      <th>8</th>\n      <td>이명박</td>\n      <td>1027</td>\n    </tr>\n    <tr>\n      <th>9</th>\n      <td>이승만</td>\n      <td>998</td>\n    </tr>\n    <tr>\n      <th>10</th>\n      <td>전두환</td>\n      <td>602</td>\n    </tr>\n    <tr>\n      <th>11</th>\n      <td>최규하</td>\n      <td>58</td>\n    </tr>\n  </tbody>\n</table>\n</div>"
     },
     "execution_count": 9,
     "metadata": {},
     "output_type": "execute_result"
    }
   ],
   "source": [
    "result"
   ],
   "metadata": {
    "collapsed": false,
    "ExecuteTime": {
     "end_time": "2023-09-07T05:50:12.420858Z",
     "start_time": "2023-09-07T05:50:12.412773Z"
    }
   },
   "id": "a1706fc2bf4b741d"
  },
  {
   "cell_type": "code",
   "execution_count": 10,
   "outputs": [
    {
     "data": {
      "text/plain": "pandas.core.frame.DataFrame"
     },
     "execution_count": 10,
     "metadata": {},
     "output_type": "execute_result"
    }
   ],
   "source": [
    "type(result)"
   ],
   "metadata": {
    "collapsed": false,
    "ExecuteTime": {
     "end_time": "2023-09-07T05:56:01.198368Z",
     "start_time": "2023-09-07T05:56:01.180504Z"
    }
   },
   "id": "7a3bc5c16676f8ba"
  },
  {
   "cell_type": "code",
   "execution_count": 17,
   "outputs": [
    {
     "name": "stdout",
     "output_type": "stream",
     "text": [
      "date\n",
      "2023    2\n",
      "2011    1\n",
      "2012    1\n",
      "        1\n",
      "Name: count, dtype: int64\n"
     ]
    }
   ],
   "source": [
    "import pandas as pd\n",
    "\n",
    "# dataframe 생성\n",
    "df = pd.DataFrame({\n",
    "    \"date\": [\"2011\", \"2012\", \"2023.01.01\", \"2023-07-20\", \"\"]\n",
    "})\n",
    "\n",
    "# 빈 문자열과 널값 제외\n",
    "df = df.dropna(how=\"any\")\n",
    "\n",
    "df[\"date\"] = df[\"date\"].str[:4]\n",
    "\n",
    "# 연도별 집계\n",
    "year_counts = df[\"date\"].value_counts()\n",
    "\n",
    "# 출력\n",
    "print(year_counts)"
   ],
   "metadata": {
    "collapsed": false,
    "ExecuteTime": {
     "end_time": "2023-09-07T06:22:45.772206Z",
     "start_time": "2023-09-07T06:22:45.770337Z"
    }
   },
   "id": "53e674c8ce2cdc18"
  },
  {
   "cell_type": "code",
   "execution_count": 18,
   "outputs": [
    {
     "data": {
      "text/plain": "pandas.core.series.Series"
     },
     "execution_count": 18,
     "metadata": {},
     "output_type": "execute_result"
    }
   ],
   "source": [
    "type(year_counts)"
   ],
   "metadata": {
    "collapsed": false,
    "ExecuteTime": {
     "end_time": "2023-09-07T06:23:13.129829Z",
     "start_time": "2023-09-07T06:23:13.118164Z"
    }
   },
   "id": "8a22dff48fa02e7f"
  },
  {
   "cell_type": "code",
   "execution_count": 27,
   "outputs": [
    {
     "data": {
      "text/plain": "   date  count\n1  2011      1\n2  2012      1\n0  2023      2",
      "text/html": "<div>\n<style scoped>\n    .dataframe tbody tr th:only-of-type {\n        vertical-align: middle;\n    }\n\n    .dataframe tbody tr th {\n        vertical-align: top;\n    }\n\n    .dataframe thead th {\n        text-align: right;\n    }\n</style>\n<table border=\"1\" class=\"dataframe\">\n  <thead>\n    <tr style=\"text-align: right;\">\n      <th></th>\n      <th>date</th>\n      <th>count</th>\n    </tr>\n  </thead>\n  <tbody>\n    <tr>\n      <th>1</th>\n      <td>2011</td>\n      <td>1</td>\n    </tr>\n    <tr>\n      <th>2</th>\n      <td>2012</td>\n      <td>1</td>\n    </tr>\n    <tr>\n      <th>0</th>\n      <td>2023</td>\n      <td>2</td>\n    </tr>\n  </tbody>\n</table>\n</div>"
     },
     "execution_count": 27,
     "metadata": {},
     "output_type": "execute_result"
    }
   ],
   "source": [
    "import pandas as pd\n",
    "\n",
    "# dataframe 생성\n",
    "df = pd.DataFrame({\n",
    "    \"date\": [\"2011\", \"2012\", \"2023.01.01\", \"2023-07-20\", \"\"]\n",
    "})\n",
    "\n",
    "# 빈 문자열과 널값 제외\n",
    "df = df.dropna(how=\"any\")\n",
    "\n",
    "# 날짜 형식 변환\n",
    "df[\"date\"] = df[\"date\"].str[:4]\n",
    "\n",
    "# 날짜 형식에 맞지 않는 데이터 제외\n",
    "df = df[df[\"date\"].str[:4] != \"\"]\n",
    "\n",
    "# 연도별 집계\n",
    "year_counts = df[\"date\"].value_counts().reset_index(name=\"count\").sort_values(\"date\")\n",
    "\n",
    "# 출력\n",
    "year_counts"
   ],
   "metadata": {
    "collapsed": false,
    "ExecuteTime": {
     "end_time": "2023-09-07T06:28:25.548073Z",
     "start_time": "2023-09-07T06:28:25.537798Z"
    }
   },
   "id": "a9ac11d7963a0c41"
  },
  {
   "cell_type": "code",
   "execution_count": null,
   "outputs": [],
   "source": [],
   "metadata": {
    "collapsed": false
   },
   "id": "2b9e5bced00a4752"
  }
 ],
 "metadata": {
  "kernelspec": {
   "display_name": "Python 3",
   "language": "python",
   "name": "python3"
  },
  "language_info": {
   "codemirror_mode": {
    "name": "ipython",
    "version": 2
   },
   "file_extension": ".py",
   "mimetype": "text/x-python",
   "name": "python",
   "nbconvert_exporter": "python",
   "pygments_lexer": "ipython2",
   "version": "2.7.6"
  }
 },
 "nbformat": 4,
 "nbformat_minor": 5
}
