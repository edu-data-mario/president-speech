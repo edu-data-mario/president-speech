{
 "cells": [
  {
   "cell_type": "code",
   "execution_count": 2,
   "id": "initial_id",
   "metadata": {
    "collapsed": true,
    "ExecuteTime": {
     "end_time": "2023-09-12T02:37:55.889085Z",
     "start_time": "2023-09-12T02:37:55.203041Z"
    }
   },
   "outputs": [],
   "source": [
    "import dask.dataframe as dd"
   ]
  },
  {
   "cell_type": "code",
   "execution_count": 1,
   "outputs": [],
   "source": [
    "from president_speech.db.parquet_interpreter import get_parquet_full_path, read_parquet"
   ],
   "metadata": {
    "collapsed": false,
    "ExecuteTime": {
     "end_time": "2023-09-12T02:57:38.054783Z",
     "start_time": "2023-09-12T02:57:37.560937Z"
    }
   },
   "id": "102c532f8faae0c0"
  },
  {
   "cell_type": "code",
   "execution_count": 7,
   "outputs": [],
   "source": [
    "df = dd.read_parquet(get_parquet_full_path(), memory_limit=1000, columns=)"
   ],
   "metadata": {
    "collapsed": false,
    "ExecuteTime": {
     "end_time": "2023-09-12T02:39:33.183140Z",
     "start_time": "2023-09-12T02:39:33.178085Z"
    }
   },
   "id": "6da927dcb0138d8b"
  },
  {
   "cell_type": "code",
   "execution_count": 10,
   "outputs": [],
   "source": [
    "df_c = df.compute()"
   ],
   "metadata": {
    "collapsed": false,
    "ExecuteTime": {
     "end_time": "2023-09-12T02:40:08.534072Z",
     "start_time": "2023-09-12T02:40:08.391839Z"
    }
   },
   "id": "b6751344b9d00426"
  },
  {
   "cell_type": "code",
   "execution_count": 11,
   "outputs": [
    {
     "data": {
      "text/plain": "pandas.core.frame.DataFrame"
     },
     "execution_count": 11,
     "metadata": {},
     "output_type": "execute_result"
    }
   ],
   "source": [
    "type(df_c)"
   ],
   "metadata": {
    "collapsed": false,
    "ExecuteTime": {
     "end_time": "2023-09-12T02:40:16.636247Z",
     "start_time": "2023-09-12T02:40:16.625473Z"
    }
   },
   "id": "664425c9774cf618"
  },
  {
   "cell_type": "code",
   "execution_count": 13,
   "outputs": [],
   "source": [
    "ddd = read_parquet()"
   ],
   "metadata": {
    "collapsed": false,
    "ExecuteTime": {
     "end_time": "2023-09-12T02:41:56.996482Z",
     "start_time": "2023-09-12T02:41:56.845988Z"
    }
   },
   "id": "e53c1314956198df"
  },
  {
   "cell_type": "code",
   "execution_count": 14,
   "outputs": [
    {
     "data": {
      "text/plain": "pandas.core.frame.DataFrame"
     },
     "execution_count": 14,
     "metadata": {},
     "output_type": "execute_result"
    }
   ],
   "source": [
    "type(ddd)"
   ],
   "metadata": {
    "collapsed": false,
    "ExecuteTime": {
     "end_time": "2023-09-12T02:42:02.403257Z",
     "start_time": "2023-09-12T02:42:02.398494Z"
    }
   },
   "id": "5398b7e28e0e505d"
  },
  {
   "cell_type": "code",
   "execution_count": null,
   "outputs": [],
   "source": [],
   "metadata": {
    "collapsed": false
   },
   "id": "cb09f4887be810d7"
  },
  {
   "cell_type": "code",
   "execution_count": 2,
   "outputs": [],
   "source": [
    "df = read_parquet(use_columns=[\"president\"])"
   ],
   "metadata": {
    "collapsed": false,
    "ExecuteTime": {
     "end_time": "2023-09-12T02:57:41.297114Z",
     "start_time": "2023-09-12T02:57:41.269195Z"
    }
   },
   "id": "28ed4407b2f62359"
  },
  {
   "cell_type": "code",
   "execution_count": 3,
   "outputs": [
    {
     "data": {
      "text/plain": "Dask DataFrame Structure:\n              president\nnpartitions=1          \n                 object\n                    ...\nDask Name: read-parquet, 1 graph layer",
      "text/html": "<div><strong>Dask DataFrame Structure:</strong></div>\n<div>\n<style scoped>\n    .dataframe tbody tr th:only-of-type {\n        vertical-align: middle;\n    }\n\n    .dataframe tbody tr th {\n        vertical-align: top;\n    }\n\n    .dataframe thead th {\n        text-align: right;\n    }\n</style>\n<table border=\"1\" class=\"dataframe\">\n  <thead>\n    <tr style=\"text-align: right;\">\n      <th></th>\n      <th>president</th>\n    </tr>\n    <tr>\n      <th>npartitions=1</th>\n      <th></th>\n    </tr>\n  </thead>\n  <tbody>\n    <tr>\n      <th></th>\n      <td>object</td>\n    </tr>\n    <tr>\n      <th></th>\n      <td>...</td>\n    </tr>\n  </tbody>\n</table>\n</div>\n<div>Dask Name: read-parquet, 1 graph layer</div>"
     },
     "execution_count": 3,
     "metadata": {},
     "output_type": "execute_result"
    }
   ],
   "source": [
    "df"
   ],
   "metadata": {
    "collapsed": false,
    "ExecuteTime": {
     "end_time": "2023-09-12T02:57:42.134270Z",
     "start_time": "2023-09-12T02:57:42.125364Z"
    }
   },
   "id": "20a091f43f47b743"
  },
  {
   "cell_type": "code",
   "execution_count": 4,
   "outputs": [
    {
     "data": {
      "text/plain": "dask.dataframe.core.DataFrame"
     },
     "execution_count": 4,
     "metadata": {},
     "output_type": "execute_result"
    }
   ],
   "source": [
    "type(df)"
   ],
   "metadata": {
    "collapsed": false,
    "ExecuteTime": {
     "end_time": "2023-09-12T02:57:44.540211Z",
     "start_time": "2023-09-12T02:57:44.535700Z"
    }
   },
   "id": "3466335e0c96944"
  },
  {
   "cell_type": "code",
   "execution_count": 5,
   "outputs": [],
   "source": [
    "grouped = df.groupby(\"president\")"
   ],
   "metadata": {
    "collapsed": false,
    "ExecuteTime": {
     "end_time": "2023-09-12T02:58:07.249847Z",
     "start_time": "2023-09-12T02:58:07.244656Z"
    }
   },
   "id": "92f20245884342cc"
  },
  {
   "cell_type": "code",
   "execution_count": 6,
   "outputs": [
    {
     "data": {
      "text/plain": "<dask.dataframe.groupby.DataFrameGroupBy at 0x125872460>"
     },
     "execution_count": 6,
     "metadata": {},
     "output_type": "execute_result"
    }
   ],
   "source": [
    "grouped"
   ],
   "metadata": {
    "collapsed": false,
    "ExecuteTime": {
     "end_time": "2023-09-12T02:58:11.610797Z",
     "start_time": "2023-09-12T02:58:11.607176Z"
    }
   },
   "id": "67e7db0fa6cefc20"
  },
  {
   "cell_type": "code",
   "execution_count": 8,
   "outputs": [],
   "source": [
    "result_df = grouped.size()"
   ],
   "metadata": {
    "collapsed": false,
    "ExecuteTime": {
     "end_time": "2023-09-12T02:58:38.388176Z",
     "start_time": "2023-09-12T02:58:38.381280Z"
    }
   },
   "id": "4b02139f91317bd5"
  },
  {
   "cell_type": "code",
   "execution_count": 11,
   "outputs": [
    {
     "data": {
      "text/plain": "   president  speeches\n0        김대중       822\n1        김영삼       728\n2        노무현       780\n3        노태우       601\n4        문재인      1389\n5        박근혜       493\n6        박정희      1270\n7        윤보선         3\n8        이명박      1027\n9        이승만       998\n10       전두환       602\n11       최규하        58",
      "text/html": "<div>\n<style scoped>\n    .dataframe tbody tr th:only-of-type {\n        vertical-align: middle;\n    }\n\n    .dataframe tbody tr th {\n        vertical-align: top;\n    }\n\n    .dataframe thead th {\n        text-align: right;\n    }\n</style>\n<table border=\"1\" class=\"dataframe\">\n  <thead>\n    <tr style=\"text-align: right;\">\n      <th></th>\n      <th>president</th>\n      <th>speeches</th>\n    </tr>\n  </thead>\n  <tbody>\n    <tr>\n      <th>0</th>\n      <td>김대중</td>\n      <td>822</td>\n    </tr>\n    <tr>\n      <th>1</th>\n      <td>김영삼</td>\n      <td>728</td>\n    </tr>\n    <tr>\n      <th>2</th>\n      <td>노무현</td>\n      <td>780</td>\n    </tr>\n    <tr>\n      <th>3</th>\n      <td>노태우</td>\n      <td>601</td>\n    </tr>\n    <tr>\n      <th>4</th>\n      <td>문재인</td>\n      <td>1389</td>\n    </tr>\n    <tr>\n      <th>5</th>\n      <td>박근혜</td>\n      <td>493</td>\n    </tr>\n    <tr>\n      <th>6</th>\n      <td>박정희</td>\n      <td>1270</td>\n    </tr>\n    <tr>\n      <th>7</th>\n      <td>윤보선</td>\n      <td>3</td>\n    </tr>\n    <tr>\n      <th>8</th>\n      <td>이명박</td>\n      <td>1027</td>\n    </tr>\n    <tr>\n      <th>9</th>\n      <td>이승만</td>\n      <td>998</td>\n    </tr>\n    <tr>\n      <th>10</th>\n      <td>전두환</td>\n      <td>602</td>\n    </tr>\n    <tr>\n      <th>11</th>\n      <td>최규하</td>\n      <td>58</td>\n    </tr>\n  </tbody>\n</table>\n</div>"
     },
     "execution_count": 11,
     "metadata": {},
     "output_type": "execute_result"
    }
   ],
   "source": [
    "result_df.compute().reset_index(name=\"speeches\")"
   ],
   "metadata": {
    "collapsed": false,
    "ExecuteTime": {
     "end_time": "2023-09-12T03:01:09.109090Z",
     "start_time": "2023-09-12T03:01:09.098130Z"
    }
   },
   "id": "ea35c2a19f771e4"
  },
  {
   "cell_type": "code",
   "execution_count": null,
   "outputs": [],
   "source": [],
   "metadata": {
    "collapsed": false
   },
   "id": "def50cf284222e9a"
  }
 ],
 "metadata": {
  "kernelspec": {
   "display_name": "Python 3",
   "language": "python",
   "name": "python3"
  },
  "language_info": {
   "codemirror_mode": {
    "name": "ipython",
    "version": 2
   },
   "file_extension": ".py",
   "mimetype": "text/x-python",
   "name": "python",
   "nbconvert_exporter": "python",
   "pygments_lexer": "ipython2",
   "version": "2.7.6"
  }
 },
 "nbformat": 4,
 "nbformat_minor": 5
}
